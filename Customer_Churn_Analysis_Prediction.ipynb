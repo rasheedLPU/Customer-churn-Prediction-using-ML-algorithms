{
 "cells": [
  {
   "cell_type": "code",
   "execution_count": 1,
   "metadata": {
    "id": "zJotuIcSkDlM"
   },
   "outputs": [],
   "source": [
    "import numpy as np\n",
    "import pandas as pd\n",
    "import matplotlib.pyplot as plt\n",
    "import seaborn as sns\n",
    "\n",
    "from sklearn.linear_model import LogisticRegression\n",
    "from sklearn.tree import DecisionTreeClassifier\n",
    "from sklearn.ensemble import RandomForestClassifier\n",
    "from xgboost import XGBClassifier\n",
    "from sklearn.naive_bayes import GaussianNB\n",
    "from sklearn.svm import SVC\n",
    "from sklearn.neighbors import KNeighborsClassifier\n",
    "from sklearn.ensemble import AdaBoostClassifier\n",
    "from sklearn.ensemble import GradientBoostingClassifier\n",
    "from sklearn.ensemble import BaggingClassifier\n",
    "\n",
    "from sklearn.model_selection import train_test_split\n",
    "\n",
    "from sklearn.metrics import accuracy_score, precision_score, recall_score, f1_score, roc_auc_score, roc_curve, confusion_matrix, classification_report\n"
   ]
  },
  {
   "cell_type": "markdown",
   "metadata": {},
   "source": [
    "## IMPORTING DATASETS"
   ]
  },
  {
   "cell_type": "code",
   "execution_count": 2,
   "metadata": {
    "colab": {
     "base_uri": "https://localhost:8080/",
     "height": 226
    },
    "id": "Upt_rfC2mfpn",
    "outputId": "96a3f1fd-940f-4fce-8add-bad52dd4ace4"
   },
   "outputs": [
    {
     "data": {
      "text/html": [
       "<div>\n",
       "<style scoped>\n",
       "    .dataframe tbody tr th:only-of-type {\n",
       "        vertical-align: middle;\n",
       "    }\n",
       "\n",
       "    .dataframe tbody tr th {\n",
       "        vertical-align: top;\n",
       "    }\n",
       "\n",
       "    .dataframe thead th {\n",
       "        text-align: right;\n",
       "    }\n",
       "</style>\n",
       "<table border=\"1\" class=\"dataframe\">\n",
       "  <thead>\n",
       "    <tr style=\"text-align: right;\">\n",
       "      <th></th>\n",
       "      <th>state</th>\n",
       "      <th>account_length</th>\n",
       "      <th>area_code</th>\n",
       "      <th>international_plan</th>\n",
       "      <th>voice_mail_plan</th>\n",
       "      <th>number_vmail_messages</th>\n",
       "      <th>total_day_minutes</th>\n",
       "      <th>total_day_calls</th>\n",
       "      <th>total_day_charge</th>\n",
       "      <th>total_eve_minutes</th>\n",
       "      <th>total_eve_calls</th>\n",
       "      <th>total_eve_charge</th>\n",
       "      <th>total_night_minutes</th>\n",
       "      <th>total_night_calls</th>\n",
       "      <th>total_night_charge</th>\n",
       "      <th>total_intl_minutes</th>\n",
       "      <th>total_intl_calls</th>\n",
       "      <th>total_intl_charge</th>\n",
       "      <th>number_customer_service_calls</th>\n",
       "      <th>churn</th>\n",
       "    </tr>\n",
       "  </thead>\n",
       "  <tbody>\n",
       "    <tr>\n",
       "      <th>0</th>\n",
       "      <td>OH</td>\n",
       "      <td>107</td>\n",
       "      <td>area_code_415</td>\n",
       "      <td>no</td>\n",
       "      <td>yes</td>\n",
       "      <td>26</td>\n",
       "      <td>161.6</td>\n",
       "      <td>123</td>\n",
       "      <td>27.47</td>\n",
       "      <td>195.5</td>\n",
       "      <td>103</td>\n",
       "      <td>16.62</td>\n",
       "      <td>254.4</td>\n",
       "      <td>103</td>\n",
       "      <td>11.45</td>\n",
       "      <td>13.7</td>\n",
       "      <td>3</td>\n",
       "      <td>3.70</td>\n",
       "      <td>1</td>\n",
       "      <td>no</td>\n",
       "    </tr>\n",
       "    <tr>\n",
       "      <th>1</th>\n",
       "      <td>NJ</td>\n",
       "      <td>137</td>\n",
       "      <td>area_code_415</td>\n",
       "      <td>no</td>\n",
       "      <td>no</td>\n",
       "      <td>0</td>\n",
       "      <td>243.4</td>\n",
       "      <td>114</td>\n",
       "      <td>41.38</td>\n",
       "      <td>121.2</td>\n",
       "      <td>110</td>\n",
       "      <td>10.30</td>\n",
       "      <td>162.6</td>\n",
       "      <td>104</td>\n",
       "      <td>7.32</td>\n",
       "      <td>12.2</td>\n",
       "      <td>5</td>\n",
       "      <td>3.29</td>\n",
       "      <td>0</td>\n",
       "      <td>no</td>\n",
       "    </tr>\n",
       "    <tr>\n",
       "      <th>2</th>\n",
       "      <td>OH</td>\n",
       "      <td>84</td>\n",
       "      <td>area_code_408</td>\n",
       "      <td>yes</td>\n",
       "      <td>no</td>\n",
       "      <td>0</td>\n",
       "      <td>299.4</td>\n",
       "      <td>71</td>\n",
       "      <td>50.90</td>\n",
       "      <td>61.9</td>\n",
       "      <td>88</td>\n",
       "      <td>5.26</td>\n",
       "      <td>196.9</td>\n",
       "      <td>89</td>\n",
       "      <td>8.86</td>\n",
       "      <td>6.6</td>\n",
       "      <td>7</td>\n",
       "      <td>1.78</td>\n",
       "      <td>2</td>\n",
       "      <td>no</td>\n",
       "    </tr>\n",
       "    <tr>\n",
       "      <th>3</th>\n",
       "      <td>OK</td>\n",
       "      <td>75</td>\n",
       "      <td>area_code_415</td>\n",
       "      <td>yes</td>\n",
       "      <td>no</td>\n",
       "      <td>0</td>\n",
       "      <td>166.7</td>\n",
       "      <td>113</td>\n",
       "      <td>28.34</td>\n",
       "      <td>148.3</td>\n",
       "      <td>122</td>\n",
       "      <td>12.61</td>\n",
       "      <td>186.9</td>\n",
       "      <td>121</td>\n",
       "      <td>8.41</td>\n",
       "      <td>10.1</td>\n",
       "      <td>3</td>\n",
       "      <td>2.73</td>\n",
       "      <td>3</td>\n",
       "      <td>no</td>\n",
       "    </tr>\n",
       "    <tr>\n",
       "      <th>4</th>\n",
       "      <td>MA</td>\n",
       "      <td>121</td>\n",
       "      <td>area_code_510</td>\n",
       "      <td>no</td>\n",
       "      <td>yes</td>\n",
       "      <td>24</td>\n",
       "      <td>218.2</td>\n",
       "      <td>88</td>\n",
       "      <td>37.09</td>\n",
       "      <td>348.5</td>\n",
       "      <td>108</td>\n",
       "      <td>29.62</td>\n",
       "      <td>212.6</td>\n",
       "      <td>118</td>\n",
       "      <td>9.57</td>\n",
       "      <td>7.5</td>\n",
       "      <td>7</td>\n",
       "      <td>2.03</td>\n",
       "      <td>3</td>\n",
       "      <td>no</td>\n",
       "    </tr>\n",
       "  </tbody>\n",
       "</table>\n",
       "</div>"
      ],
      "text/plain": [
       "  state  account_length      area_code international_plan voice_mail_plan   \n",
       "0    OH             107  area_code_415                 no             yes  \\\n",
       "1    NJ             137  area_code_415                 no              no   \n",
       "2    OH              84  area_code_408                yes              no   \n",
       "3    OK              75  area_code_415                yes              no   \n",
       "4    MA             121  area_code_510                 no             yes   \n",
       "\n",
       "   number_vmail_messages  total_day_minutes  total_day_calls   \n",
       "0                     26              161.6              123  \\\n",
       "1                      0              243.4              114   \n",
       "2                      0              299.4               71   \n",
       "3                      0              166.7              113   \n",
       "4                     24              218.2               88   \n",
       "\n",
       "   total_day_charge  total_eve_minutes  total_eve_calls  total_eve_charge   \n",
       "0             27.47              195.5              103             16.62  \\\n",
       "1             41.38              121.2              110             10.30   \n",
       "2             50.90               61.9               88              5.26   \n",
       "3             28.34              148.3              122             12.61   \n",
       "4             37.09              348.5              108             29.62   \n",
       "\n",
       "   total_night_minutes  total_night_calls  total_night_charge   \n",
       "0                254.4                103               11.45  \\\n",
       "1                162.6                104                7.32   \n",
       "2                196.9                 89                8.86   \n",
       "3                186.9                121                8.41   \n",
       "4                212.6                118                9.57   \n",
       "\n",
       "   total_intl_minutes  total_intl_calls  total_intl_charge   \n",
       "0                13.7                 3               3.70  \\\n",
       "1                12.2                 5               3.29   \n",
       "2                 6.6                 7               1.78   \n",
       "3                10.1                 3               2.73   \n",
       "4                 7.5                 7               2.03   \n",
       "\n",
       "   number_customer_service_calls churn  \n",
       "0                              1    no  \n",
       "1                              0    no  \n",
       "2                              2    no  \n",
       "3                              3    no  \n",
       "4                              3    no  "
      ]
     },
     "execution_count": 2,
     "metadata": {},
     "output_type": "execute_result"
    }
   ],
   "source": [
    "train_data = pd.read_csv(\"train.csv\")\n",
    "test_data = pd.read_csv(\"test.csv\")\n",
    "train_data.head()\n"
   ]
  },
  {
   "cell_type": "code",
   "execution_count": 3,
   "metadata": {
    "colab": {
     "base_uri": "https://localhost:8080/",
     "height": 226
    },
    "id": "HcH8gs4vmxAD",
    "outputId": "19191d0f-cbe5-4f32-df9b-f106a6796a0b"
   },
   "outputs": [
    {
     "data": {
      "text/html": [
       "<div>\n",
       "<style scoped>\n",
       "    .dataframe tbody tr th:only-of-type {\n",
       "        vertical-align: middle;\n",
       "    }\n",
       "\n",
       "    .dataframe tbody tr th {\n",
       "        vertical-align: top;\n",
       "    }\n",
       "\n",
       "    .dataframe thead th {\n",
       "        text-align: right;\n",
       "    }\n",
       "</style>\n",
       "<table border=\"1\" class=\"dataframe\">\n",
       "  <thead>\n",
       "    <tr style=\"text-align: right;\">\n",
       "      <th></th>\n",
       "      <th>id</th>\n",
       "      <th>state</th>\n",
       "      <th>account_length</th>\n",
       "      <th>area_code</th>\n",
       "      <th>international_plan</th>\n",
       "      <th>voice_mail_plan</th>\n",
       "      <th>number_vmail_messages</th>\n",
       "      <th>total_day_minutes</th>\n",
       "      <th>total_day_calls</th>\n",
       "      <th>total_day_charge</th>\n",
       "      <th>total_eve_minutes</th>\n",
       "      <th>total_eve_calls</th>\n",
       "      <th>total_eve_charge</th>\n",
       "      <th>total_night_minutes</th>\n",
       "      <th>total_night_calls</th>\n",
       "      <th>total_night_charge</th>\n",
       "      <th>total_intl_minutes</th>\n",
       "      <th>total_intl_calls</th>\n",
       "      <th>total_intl_charge</th>\n",
       "      <th>number_customer_service_calls</th>\n",
       "    </tr>\n",
       "  </thead>\n",
       "  <tbody>\n",
       "    <tr>\n",
       "      <th>0</th>\n",
       "      <td>1</td>\n",
       "      <td>KS</td>\n",
       "      <td>128</td>\n",
       "      <td>area_code_415</td>\n",
       "      <td>no</td>\n",
       "      <td>yes</td>\n",
       "      <td>25</td>\n",
       "      <td>265.1</td>\n",
       "      <td>110</td>\n",
       "      <td>45.07</td>\n",
       "      <td>197.4</td>\n",
       "      <td>99</td>\n",
       "      <td>16.78</td>\n",
       "      <td>244.7</td>\n",
       "      <td>91</td>\n",
       "      <td>11.01</td>\n",
       "      <td>10.0</td>\n",
       "      <td>3</td>\n",
       "      <td>2.70</td>\n",
       "      <td>1</td>\n",
       "    </tr>\n",
       "    <tr>\n",
       "      <th>1</th>\n",
       "      <td>2</td>\n",
       "      <td>AL</td>\n",
       "      <td>118</td>\n",
       "      <td>area_code_510</td>\n",
       "      <td>yes</td>\n",
       "      <td>no</td>\n",
       "      <td>0</td>\n",
       "      <td>223.4</td>\n",
       "      <td>98</td>\n",
       "      <td>37.98</td>\n",
       "      <td>220.6</td>\n",
       "      <td>101</td>\n",
       "      <td>18.75</td>\n",
       "      <td>203.9</td>\n",
       "      <td>118</td>\n",
       "      <td>9.18</td>\n",
       "      <td>6.3</td>\n",
       "      <td>6</td>\n",
       "      <td>1.70</td>\n",
       "      <td>0</td>\n",
       "    </tr>\n",
       "    <tr>\n",
       "      <th>2</th>\n",
       "      <td>3</td>\n",
       "      <td>IA</td>\n",
       "      <td>62</td>\n",
       "      <td>area_code_415</td>\n",
       "      <td>no</td>\n",
       "      <td>no</td>\n",
       "      <td>0</td>\n",
       "      <td>120.7</td>\n",
       "      <td>70</td>\n",
       "      <td>20.52</td>\n",
       "      <td>307.2</td>\n",
       "      <td>76</td>\n",
       "      <td>26.11</td>\n",
       "      <td>203.0</td>\n",
       "      <td>99</td>\n",
       "      <td>9.14</td>\n",
       "      <td>13.1</td>\n",
       "      <td>6</td>\n",
       "      <td>3.54</td>\n",
       "      <td>4</td>\n",
       "    </tr>\n",
       "    <tr>\n",
       "      <th>3</th>\n",
       "      <td>4</td>\n",
       "      <td>VT</td>\n",
       "      <td>93</td>\n",
       "      <td>area_code_510</td>\n",
       "      <td>no</td>\n",
       "      <td>no</td>\n",
       "      <td>0</td>\n",
       "      <td>190.7</td>\n",
       "      <td>114</td>\n",
       "      <td>32.42</td>\n",
       "      <td>218.2</td>\n",
       "      <td>111</td>\n",
       "      <td>18.55</td>\n",
       "      <td>129.6</td>\n",
       "      <td>121</td>\n",
       "      <td>5.83</td>\n",
       "      <td>8.1</td>\n",
       "      <td>3</td>\n",
       "      <td>2.19</td>\n",
       "      <td>3</td>\n",
       "    </tr>\n",
       "    <tr>\n",
       "      <th>4</th>\n",
       "      <td>5</td>\n",
       "      <td>NE</td>\n",
       "      <td>174</td>\n",
       "      <td>area_code_415</td>\n",
       "      <td>no</td>\n",
       "      <td>no</td>\n",
       "      <td>0</td>\n",
       "      <td>124.3</td>\n",
       "      <td>76</td>\n",
       "      <td>21.13</td>\n",
       "      <td>277.1</td>\n",
       "      <td>112</td>\n",
       "      <td>23.55</td>\n",
       "      <td>250.7</td>\n",
       "      <td>115</td>\n",
       "      <td>11.28</td>\n",
       "      <td>15.5</td>\n",
       "      <td>5</td>\n",
       "      <td>4.19</td>\n",
       "      <td>3</td>\n",
       "    </tr>\n",
       "  </tbody>\n",
       "</table>\n",
       "</div>"
      ],
      "text/plain": [
       "   id state  account_length      area_code international_plan voice_mail_plan   \n",
       "0   1    KS             128  area_code_415                 no             yes  \\\n",
       "1   2    AL             118  area_code_510                yes              no   \n",
       "2   3    IA              62  area_code_415                 no              no   \n",
       "3   4    VT              93  area_code_510                 no              no   \n",
       "4   5    NE             174  area_code_415                 no              no   \n",
       "\n",
       "   number_vmail_messages  total_day_minutes  total_day_calls   \n",
       "0                     25              265.1              110  \\\n",
       "1                      0              223.4               98   \n",
       "2                      0              120.7               70   \n",
       "3                      0              190.7              114   \n",
       "4                      0              124.3               76   \n",
       "\n",
       "   total_day_charge  total_eve_minutes  total_eve_calls  total_eve_charge   \n",
       "0             45.07              197.4               99             16.78  \\\n",
       "1             37.98              220.6              101             18.75   \n",
       "2             20.52              307.2               76             26.11   \n",
       "3             32.42              218.2              111             18.55   \n",
       "4             21.13              277.1              112             23.55   \n",
       "\n",
       "   total_night_minutes  total_night_calls  total_night_charge   \n",
       "0                244.7                 91               11.01  \\\n",
       "1                203.9                118                9.18   \n",
       "2                203.0                 99                9.14   \n",
       "3                129.6                121                5.83   \n",
       "4                250.7                115               11.28   \n",
       "\n",
       "   total_intl_minutes  total_intl_calls  total_intl_charge   \n",
       "0                10.0                 3               2.70  \\\n",
       "1                 6.3                 6               1.70   \n",
       "2                13.1                 6               3.54   \n",
       "3                 8.1                 3               2.19   \n",
       "4                15.5                 5               4.19   \n",
       "\n",
       "   number_customer_service_calls  \n",
       "0                              1  \n",
       "1                              0  \n",
       "2                              4  \n",
       "3                              3  \n",
       "4                              3  "
      ]
     },
     "execution_count": 3,
     "metadata": {},
     "output_type": "execute_result"
    }
   ],
   "source": [
    "test_data.head()"
   ]
  },
  {
   "cell_type": "code",
   "execution_count": 4,
   "metadata": {
    "colab": {
     "base_uri": "https://localhost:8080/"
    },
    "id": "njK2e3W2mzZJ",
    "outputId": "5cb52110-88b9-419b-d986-0ac11d4b55cb"
   },
   "outputs": [
    {
     "name": "stdout",
     "output_type": "stream",
     "text": [
      "(4250, 20)\n",
      "(750, 20)\n"
     ]
    }
   ],
   "source": [
    "print(train_data.shape)\n",
    "print(test_data.shape)"
   ]
  },
  {
   "cell_type": "code",
   "execution_count": 5,
   "metadata": {
    "colab": {
     "base_uri": "https://localhost:8080/"
    },
    "id": "0uR5UnXlovGA",
    "outputId": "0ea7938a-f28a-48ad-f9b4-60fdfa456f62"
   },
   "outputs": [
    {
     "name": "stdout",
     "output_type": "stream",
     "text": [
      "<class 'pandas.core.frame.DataFrame'>\n",
      "RangeIndex: 4250 entries, 0 to 4249\n",
      "Data columns (total 20 columns):\n",
      " #   Column                         Non-Null Count  Dtype  \n",
      "---  ------                         --------------  -----  \n",
      " 0   state                          4250 non-null   object \n",
      " 1   account_length                 4250 non-null   int64  \n",
      " 2   area_code                      4250 non-null   object \n",
      " 3   international_plan             4250 non-null   object \n",
      " 4   voice_mail_plan                4250 non-null   object \n",
      " 5   number_vmail_messages          4250 non-null   int64  \n",
      " 6   total_day_minutes              4250 non-null   float64\n",
      " 7   total_day_calls                4250 non-null   int64  \n",
      " 8   total_day_charge               4250 non-null   float64\n",
      " 9   total_eve_minutes              4250 non-null   float64\n",
      " 10  total_eve_calls                4250 non-null   int64  \n",
      " 11  total_eve_charge               4250 non-null   float64\n",
      " 12  total_night_minutes            4250 non-null   float64\n",
      " 13  total_night_calls              4250 non-null   int64  \n",
      " 14  total_night_charge             4250 non-null   float64\n",
      " 15  total_intl_minutes             4250 non-null   float64\n",
      " 16  total_intl_calls               4250 non-null   int64  \n",
      " 17  total_intl_charge              4250 non-null   float64\n",
      " 18  number_customer_service_calls  4250 non-null   int64  \n",
      " 19  churn                          4250 non-null   object \n",
      "dtypes: float64(8), int64(7), object(5)\n",
      "memory usage: 664.2+ KB\n"
     ]
    }
   ],
   "source": [
    "train_data.info()"
   ]
  },
  {
   "cell_type": "code",
   "execution_count": 6,
   "metadata": {},
   "outputs": [
    {
     "data": {
      "text/html": [
       "<div>\n",
       "<style scoped>\n",
       "    .dataframe tbody tr th:only-of-type {\n",
       "        vertical-align: middle;\n",
       "    }\n",
       "\n",
       "    .dataframe tbody tr th {\n",
       "        vertical-align: top;\n",
       "    }\n",
       "\n",
       "    .dataframe thead th {\n",
       "        text-align: right;\n",
       "    }\n",
       "</style>\n",
       "<table border=\"1\" class=\"dataframe\">\n",
       "  <thead>\n",
       "    <tr style=\"text-align: right;\">\n",
       "      <th></th>\n",
       "      <th>account_length</th>\n",
       "      <th>number_vmail_messages</th>\n",
       "      <th>total_day_minutes</th>\n",
       "      <th>total_day_calls</th>\n",
       "      <th>total_day_charge</th>\n",
       "      <th>total_eve_minutes</th>\n",
       "      <th>total_eve_calls</th>\n",
       "      <th>total_eve_charge</th>\n",
       "      <th>total_night_minutes</th>\n",
       "      <th>total_night_calls</th>\n",
       "      <th>total_night_charge</th>\n",
       "      <th>total_intl_minutes</th>\n",
       "      <th>total_intl_calls</th>\n",
       "      <th>total_intl_charge</th>\n",
       "      <th>number_customer_service_calls</th>\n",
       "    </tr>\n",
       "  </thead>\n",
       "  <tbody>\n",
       "    <tr>\n",
       "      <th>count</th>\n",
       "      <td>4250.000000</td>\n",
       "      <td>4250.000000</td>\n",
       "      <td>4250.000000</td>\n",
       "      <td>4250.000000</td>\n",
       "      <td>4250.000000</td>\n",
       "      <td>4250.000000</td>\n",
       "      <td>4250.000000</td>\n",
       "      <td>4250.000000</td>\n",
       "      <td>4250.000000</td>\n",
       "      <td>4250.000000</td>\n",
       "      <td>4250.000000</td>\n",
       "      <td>4250.000000</td>\n",
       "      <td>4250.000000</td>\n",
       "      <td>4250.000000</td>\n",
       "      <td>4250.000000</td>\n",
       "    </tr>\n",
       "    <tr>\n",
       "      <th>mean</th>\n",
       "      <td>100.236235</td>\n",
       "      <td>7.631765</td>\n",
       "      <td>180.259600</td>\n",
       "      <td>99.907294</td>\n",
       "      <td>30.644682</td>\n",
       "      <td>200.173906</td>\n",
       "      <td>100.176471</td>\n",
       "      <td>17.015012</td>\n",
       "      <td>200.527882</td>\n",
       "      <td>99.839529</td>\n",
       "      <td>9.023892</td>\n",
       "      <td>10.256071</td>\n",
       "      <td>4.426353</td>\n",
       "      <td>2.769654</td>\n",
       "      <td>1.559059</td>\n",
       "    </tr>\n",
       "    <tr>\n",
       "      <th>std</th>\n",
       "      <td>39.698401</td>\n",
       "      <td>13.439882</td>\n",
       "      <td>54.012373</td>\n",
       "      <td>19.850817</td>\n",
       "      <td>9.182096</td>\n",
       "      <td>50.249518</td>\n",
       "      <td>19.908591</td>\n",
       "      <td>4.271212</td>\n",
       "      <td>50.353548</td>\n",
       "      <td>20.093220</td>\n",
       "      <td>2.265922</td>\n",
       "      <td>2.760102</td>\n",
       "      <td>2.463069</td>\n",
       "      <td>0.745204</td>\n",
       "      <td>1.311434</td>\n",
       "    </tr>\n",
       "    <tr>\n",
       "      <th>min</th>\n",
       "      <td>1.000000</td>\n",
       "      <td>0.000000</td>\n",
       "      <td>0.000000</td>\n",
       "      <td>0.000000</td>\n",
       "      <td>0.000000</td>\n",
       "      <td>0.000000</td>\n",
       "      <td>0.000000</td>\n",
       "      <td>0.000000</td>\n",
       "      <td>0.000000</td>\n",
       "      <td>0.000000</td>\n",
       "      <td>0.000000</td>\n",
       "      <td>0.000000</td>\n",
       "      <td>0.000000</td>\n",
       "      <td>0.000000</td>\n",
       "      <td>0.000000</td>\n",
       "    </tr>\n",
       "    <tr>\n",
       "      <th>25%</th>\n",
       "      <td>73.000000</td>\n",
       "      <td>0.000000</td>\n",
       "      <td>143.325000</td>\n",
       "      <td>87.000000</td>\n",
       "      <td>24.365000</td>\n",
       "      <td>165.925000</td>\n",
       "      <td>87.000000</td>\n",
       "      <td>14.102500</td>\n",
       "      <td>167.225000</td>\n",
       "      <td>86.000000</td>\n",
       "      <td>7.522500</td>\n",
       "      <td>8.500000</td>\n",
       "      <td>3.000000</td>\n",
       "      <td>2.300000</td>\n",
       "      <td>1.000000</td>\n",
       "    </tr>\n",
       "    <tr>\n",
       "      <th>50%</th>\n",
       "      <td>100.000000</td>\n",
       "      <td>0.000000</td>\n",
       "      <td>180.450000</td>\n",
       "      <td>100.000000</td>\n",
       "      <td>30.680000</td>\n",
       "      <td>200.700000</td>\n",
       "      <td>100.000000</td>\n",
       "      <td>17.060000</td>\n",
       "      <td>200.450000</td>\n",
       "      <td>100.000000</td>\n",
       "      <td>9.020000</td>\n",
       "      <td>10.300000</td>\n",
       "      <td>4.000000</td>\n",
       "      <td>2.780000</td>\n",
       "      <td>1.000000</td>\n",
       "    </tr>\n",
       "    <tr>\n",
       "      <th>75%</th>\n",
       "      <td>127.000000</td>\n",
       "      <td>16.000000</td>\n",
       "      <td>216.200000</td>\n",
       "      <td>113.000000</td>\n",
       "      <td>36.750000</td>\n",
       "      <td>233.775000</td>\n",
       "      <td>114.000000</td>\n",
       "      <td>19.867500</td>\n",
       "      <td>234.700000</td>\n",
       "      <td>113.000000</td>\n",
       "      <td>10.560000</td>\n",
       "      <td>12.000000</td>\n",
       "      <td>6.000000</td>\n",
       "      <td>3.240000</td>\n",
       "      <td>2.000000</td>\n",
       "    </tr>\n",
       "    <tr>\n",
       "      <th>max</th>\n",
       "      <td>243.000000</td>\n",
       "      <td>52.000000</td>\n",
       "      <td>351.500000</td>\n",
       "      <td>165.000000</td>\n",
       "      <td>59.760000</td>\n",
       "      <td>359.300000</td>\n",
       "      <td>170.000000</td>\n",
       "      <td>30.540000</td>\n",
       "      <td>395.000000</td>\n",
       "      <td>175.000000</td>\n",
       "      <td>17.770000</td>\n",
       "      <td>20.000000</td>\n",
       "      <td>20.000000</td>\n",
       "      <td>5.400000</td>\n",
       "      <td>9.000000</td>\n",
       "    </tr>\n",
       "  </tbody>\n",
       "</table>\n",
       "</div>"
      ],
      "text/plain": [
       "       account_length  number_vmail_messages  total_day_minutes   \n",
       "count     4250.000000            4250.000000        4250.000000  \\\n",
       "mean       100.236235               7.631765         180.259600   \n",
       "std         39.698401              13.439882          54.012373   \n",
       "min          1.000000               0.000000           0.000000   \n",
       "25%         73.000000               0.000000         143.325000   \n",
       "50%        100.000000               0.000000         180.450000   \n",
       "75%        127.000000              16.000000         216.200000   \n",
       "max        243.000000              52.000000         351.500000   \n",
       "\n",
       "       total_day_calls  total_day_charge  total_eve_minutes  total_eve_calls   \n",
       "count      4250.000000       4250.000000        4250.000000      4250.000000  \\\n",
       "mean         99.907294         30.644682         200.173906       100.176471   \n",
       "std          19.850817          9.182096          50.249518        19.908591   \n",
       "min           0.000000          0.000000           0.000000         0.000000   \n",
       "25%          87.000000         24.365000         165.925000        87.000000   \n",
       "50%         100.000000         30.680000         200.700000       100.000000   \n",
       "75%         113.000000         36.750000         233.775000       114.000000   \n",
       "max         165.000000         59.760000         359.300000       170.000000   \n",
       "\n",
       "       total_eve_charge  total_night_minutes  total_night_calls   \n",
       "count       4250.000000          4250.000000        4250.000000  \\\n",
       "mean          17.015012           200.527882          99.839529   \n",
       "std            4.271212            50.353548          20.093220   \n",
       "min            0.000000             0.000000           0.000000   \n",
       "25%           14.102500           167.225000          86.000000   \n",
       "50%           17.060000           200.450000         100.000000   \n",
       "75%           19.867500           234.700000         113.000000   \n",
       "max           30.540000           395.000000         175.000000   \n",
       "\n",
       "       total_night_charge  total_intl_minutes  total_intl_calls   \n",
       "count         4250.000000         4250.000000       4250.000000  \\\n",
       "mean             9.023892           10.256071          4.426353   \n",
       "std              2.265922            2.760102          2.463069   \n",
       "min              0.000000            0.000000          0.000000   \n",
       "25%              7.522500            8.500000          3.000000   \n",
       "50%              9.020000           10.300000          4.000000   \n",
       "75%             10.560000           12.000000          6.000000   \n",
       "max             17.770000           20.000000         20.000000   \n",
       "\n",
       "       total_intl_charge  number_customer_service_calls  \n",
       "count        4250.000000                    4250.000000  \n",
       "mean            2.769654                       1.559059  \n",
       "std             0.745204                       1.311434  \n",
       "min             0.000000                       0.000000  \n",
       "25%             2.300000                       1.000000  \n",
       "50%             2.780000                       1.000000  \n",
       "75%             3.240000                       2.000000  \n",
       "max             5.400000                       9.000000  "
      ]
     },
     "execution_count": 6,
     "metadata": {},
     "output_type": "execute_result"
    }
   ],
   "source": [
    "train_data.describe()"
   ]
  },
  {
   "cell_type": "code",
   "execution_count": 7,
   "metadata": {
    "colab": {
     "base_uri": "https://localhost:8080/",
     "height": 423
    },
    "id": "3P_Xm4Acs6HX",
    "outputId": "988b9181-ce02-40a6-ab4b-71b7577f7ff5"
   },
   "outputs": [
    {
     "data": {
      "text/plain": [
       "<Axes: ylabel='True'>"
      ]
     },
     "execution_count": 7,
     "metadata": {},
     "output_type": "execute_result"
    },
    {
     "data": {
      "image/png": "[encoded data removed]",
      "text/plain": [
       "<Figure size 640x480 with 1 Axes>"
      ]
     },
     "metadata": {},
     "output_type": "display_data"
    }
   ],
   "source": [
    "train_data[\"area_code\"].value_counts().plot(kind='pie', label=True, autopct = '%.1f%%')"
   ]
  },
  {
   "cell_type": "code",
   "execution_count": 8,
   "metadata": {},
   "outputs": [
    {
     "data": {
      "text/plain": [
       "<Axes: xlabel='area_code', ylabel='count'>"
      ]
     },
     "execution_count": 8,
     "metadata": {},
     "output_type": "execute_result"
    },
    {
     "data": {
      "image/png": "[encoded data removed]",
      "text/plain": [
       "<Figure size 640x480 with 1 Axes>"
      ]
     },
     "metadata": {},
     "output_type": "display_data"
    }
   ],
   "source": [
    "sns.countplot(data = train_data, x = 'area_code', hue = 'churn')"
   ]
  },
  {
   "cell_type": "code",
   "execution_count": 9,
   "metadata": {},
   "outputs": [
    {
     "data": {
      "text/plain": [
       "area_code\n",
       "area_code_415    2108\n",
       "area_code_408    1086\n",
       "area_code_510    1056\n",
       "Name: count, dtype: int64"
      ]
     },
     "execution_count": 9,
     "metadata": {},
     "output_type": "execute_result"
    }
   ],
   "source": [
    "train_data[\"area_code\"].value_counts()"
   ]
  },
  {
   "cell_type": "markdown",
   "metadata": {
    "id": "BZAZkmf9vvIy"
   },
   "source": [
    "## CLEANING THE DATA"
   ]
  },
  {
   "cell_type": "code",
   "execution_count": 10,
   "metadata": {},
   "outputs": [
    {
     "data": {
      "text/plain": [
       "state                            0\n",
       "account_length                   0\n",
       "area_code                        0\n",
       "international_plan               0\n",
       "voice_mail_plan                  0\n",
       "number_vmail_messages            0\n",
       "total_day_minutes                0\n",
       "total_day_calls                  0\n",
       "total_day_charge                 0\n",
       "total_eve_minutes                0\n",
       "total_eve_calls                  0\n",
       "total_eve_charge                 0\n",
       "total_night_minutes              0\n",
       "total_night_calls                0\n",
       "total_night_charge               0\n",
       "total_intl_minutes               0\n",
       "total_intl_calls                 0\n",
       "total_intl_charge                0\n",
       "number_customer_service_calls    0\n",
       "churn                            0\n",
       "dtype: int64"
      ]
     },
     "execution_count": 10,
     "metadata": {},
     "output_type": "execute_result"
    }
   ],
   "source": [
    "train_data.isnull().sum()"
   ]
  },
  {
   "cell_type": "code",
   "execution_count": 11,
   "metadata": {},
   "outputs": [
    {
     "data": {
      "text/plain": [
       "0"
      ]
     },
     "execution_count": 11,
     "metadata": {},
     "output_type": "execute_result"
    }
   ],
   "source": [
    "train_data.duplicated().sum()"
   ]
  },
  {
   "cell_type": "markdown",
   "metadata": {},
   "source": [
    "## PRE-PROCESSING"
   ]
  },
  {
   "cell_type": "code",
   "execution_count": 12,
   "metadata": {
    "colab": {
     "base_uri": "https://localhost:8080/"
    },
    "id": "cJ3fm3ZG3FmA",
    "outputId": "34c7dddf-cbc1-4044-e2a2-e4d9163ac7f4"
   },
   "outputs": [],
   "source": [
    "cat_cols = ['state','area_code','international_plan','voice_mail_plan','churn']\n",
    "\n",
    "train_data[cat_cols] = train_data[cat_cols].astype('category')\n",
    "test_data[cat_cols[:-1]] = test_data[cat_cols[:-1]].astype('category')\n",
    "\n"
   ]
  },
  {
   "cell_type": "markdown",
   "metadata": {
    "id": "W99bmxCYv66_"
   },
   "source": [
    "1. Calculate the total_net_minutes to reduce the number of features; we are going to do the same with calls, and charge\n",
    "2. Convert all yes, no strings into ints such as in columns (voice_mail_plan, international_plan, and churn)\n",
    "3. Convert the categorical values into onehote vectors such as (state, and area_code)\n",
    "4. Drop all repeted features and useless columns such as area (code and state)"
   ]
  },
  {
   "cell_type": "code",
   "execution_count": 13,
   "metadata": {
    "colab": {
     "base_uri": "https://localhost:8080/",
     "height": 443
    },
    "id": "g2Yzk1C5vWEt",
    "outputId": "04c70529-49de-473a-cc48-49480e14c0a1"
   },
   "outputs": [
    {
     "data": {
      "text/html": [
       "<div>\n",
       "<style scoped>\n",
       "    .dataframe tbody tr th:only-of-type {\n",
       "        vertical-align: middle;\n",
       "    }\n",
       "\n",
       "    .dataframe tbody tr th {\n",
       "        vertical-align: top;\n",
       "    }\n",
       "\n",
       "    .dataframe thead th {\n",
       "        text-align: right;\n",
       "    }\n",
       "</style>\n",
       "<table border=\"1\" class=\"dataframe\">\n",
       "  <thead>\n",
       "    <tr style=\"text-align: right;\">\n",
       "      <th></th>\n",
       "      <th>id</th>\n",
       "      <th>account_length</th>\n",
       "      <th>international_plan</th>\n",
       "      <th>voice_mail_plan</th>\n",
       "      <th>number_vmail_messages</th>\n",
       "      <th>total_intl_minutes</th>\n",
       "      <th>total_intl_calls</th>\n",
       "      <th>total_intl_charge</th>\n",
       "      <th>number_customer_service_calls</th>\n",
       "      <th>total_net_minutes</th>\n",
       "      <th>total_net_calls</th>\n",
       "      <th>total_net_charge</th>\n",
       "    </tr>\n",
       "  </thead>\n",
       "  <tbody>\n",
       "    <tr>\n",
       "      <th>0</th>\n",
       "      <td>1</td>\n",
       "      <td>128</td>\n",
       "      <td>0</td>\n",
       "      <td>1</td>\n",
       "      <td>25</td>\n",
       "      <td>10.0</td>\n",
       "      <td>3</td>\n",
       "      <td>2.70</td>\n",
       "      <td>1</td>\n",
       "      <td>707.2</td>\n",
       "      <td>300</td>\n",
       "      <td>72.86</td>\n",
       "    </tr>\n",
       "    <tr>\n",
       "      <th>1</th>\n",
       "      <td>2</td>\n",
       "      <td>118</td>\n",
       "      <td>1</td>\n",
       "      <td>0</td>\n",
       "      <td>0</td>\n",
       "      <td>6.3</td>\n",
       "      <td>6</td>\n",
       "      <td>1.70</td>\n",
       "      <td>0</td>\n",
       "      <td>647.9</td>\n",
       "      <td>317</td>\n",
       "      <td>65.91</td>\n",
       "    </tr>\n",
       "    <tr>\n",
       "      <th>2</th>\n",
       "      <td>3</td>\n",
       "      <td>62</td>\n",
       "      <td>0</td>\n",
       "      <td>0</td>\n",
       "      <td>0</td>\n",
       "      <td>13.1</td>\n",
       "      <td>6</td>\n",
       "      <td>3.54</td>\n",
       "      <td>4</td>\n",
       "      <td>630.9</td>\n",
       "      <td>245</td>\n",
       "      <td>55.77</td>\n",
       "    </tr>\n",
       "    <tr>\n",
       "      <th>3</th>\n",
       "      <td>4</td>\n",
       "      <td>93</td>\n",
       "      <td>0</td>\n",
       "      <td>0</td>\n",
       "      <td>0</td>\n",
       "      <td>8.1</td>\n",
       "      <td>3</td>\n",
       "      <td>2.19</td>\n",
       "      <td>3</td>\n",
       "      <td>538.5</td>\n",
       "      <td>346</td>\n",
       "      <td>56.80</td>\n",
       "    </tr>\n",
       "    <tr>\n",
       "      <th>4</th>\n",
       "      <td>5</td>\n",
       "      <td>174</td>\n",
       "      <td>0</td>\n",
       "      <td>0</td>\n",
       "      <td>0</td>\n",
       "      <td>15.5</td>\n",
       "      <td>5</td>\n",
       "      <td>4.19</td>\n",
       "      <td>3</td>\n",
       "      <td>652.1</td>\n",
       "      <td>303</td>\n",
       "      <td>55.96</td>\n",
       "    </tr>\n",
       "    <tr>\n",
       "      <th>...</th>\n",
       "      <td>...</td>\n",
       "      <td>...</td>\n",
       "      <td>...</td>\n",
       "      <td>...</td>\n",
       "      <td>...</td>\n",
       "      <td>...</td>\n",
       "      <td>...</td>\n",
       "      <td>...</td>\n",
       "      <td>...</td>\n",
       "      <td>...</td>\n",
       "      <td>...</td>\n",
       "      <td>...</td>\n",
       "    </tr>\n",
       "    <tr>\n",
       "      <th>745</th>\n",
       "      <td>746</td>\n",
       "      <td>130</td>\n",
       "      <td>0</td>\n",
       "      <td>0</td>\n",
       "      <td>0</td>\n",
       "      <td>11.3</td>\n",
       "      <td>7</td>\n",
       "      <td>3.05</td>\n",
       "      <td>0</td>\n",
       "      <td>548.4</td>\n",
       "      <td>307</td>\n",
       "      <td>48.66</td>\n",
       "    </tr>\n",
       "    <tr>\n",
       "      <th>746</th>\n",
       "      <td>747</td>\n",
       "      <td>73</td>\n",
       "      <td>0</td>\n",
       "      <td>0</td>\n",
       "      <td>0</td>\n",
       "      <td>12.3</td>\n",
       "      <td>2</td>\n",
       "      <td>3.32</td>\n",
       "      <td>3</td>\n",
       "      <td>689.5</td>\n",
       "      <td>314</td>\n",
       "      <td>63.99</td>\n",
       "    </tr>\n",
       "    <tr>\n",
       "      <th>747</th>\n",
       "      <td>748</td>\n",
       "      <td>152</td>\n",
       "      <td>0</td>\n",
       "      <td>0</td>\n",
       "      <td>0</td>\n",
       "      <td>14.7</td>\n",
       "      <td>2</td>\n",
       "      <td>3.97</td>\n",
       "      <td>3</td>\n",
       "      <td>654.6</td>\n",
       "      <td>276</td>\n",
       "      <td>62.75</td>\n",
       "    </tr>\n",
       "    <tr>\n",
       "      <th>748</th>\n",
       "      <td>749</td>\n",
       "      <td>61</td>\n",
       "      <td>0</td>\n",
       "      <td>0</td>\n",
       "      <td>0</td>\n",
       "      <td>13.6</td>\n",
       "      <td>4</td>\n",
       "      <td>3.67</td>\n",
       "      <td>1</td>\n",
       "      <td>525.8</td>\n",
       "      <td>314</td>\n",
       "      <td>48.15</td>\n",
       "    </tr>\n",
       "    <tr>\n",
       "      <th>749</th>\n",
       "      <td>750</td>\n",
       "      <td>109</td>\n",
       "      <td>0</td>\n",
       "      <td>0</td>\n",
       "      <td>0</td>\n",
       "      <td>8.5</td>\n",
       "      <td>6</td>\n",
       "      <td>2.30</td>\n",
       "      <td>0</td>\n",
       "      <td>584.9</td>\n",
       "      <td>248</td>\n",
       "      <td>56.79</td>\n",
       "    </tr>\n",
       "  </tbody>\n",
       "</table>\n",
       "<p>750 rows × 12 columns</p>\n",
       "</div>"
      ],
      "text/plain": [
       "      id  account_length international_plan voice_mail_plan   \n",
       "0      1             128                  0               1  \\\n",
       "1      2             118                  1               0   \n",
       "2      3              62                  0               0   \n",
       "3      4              93                  0               0   \n",
       "4      5             174                  0               0   \n",
       "..   ...             ...                ...             ...   \n",
       "745  746             130                  0               0   \n",
       "746  747              73                  0               0   \n",
       "747  748             152                  0               0   \n",
       "748  749              61                  0               0   \n",
       "749  750             109                  0               0   \n",
       "\n",
       "     number_vmail_messages  total_intl_minutes  total_intl_calls   \n",
       "0                       25                10.0                 3  \\\n",
       "1                        0                 6.3                 6   \n",
       "2                        0                13.1                 6   \n",
       "3                        0                 8.1                 3   \n",
       "4                        0                15.5                 5   \n",
       "..                     ...                 ...               ...   \n",
       "745                      0                11.3                 7   \n",
       "746                      0                12.3                 2   \n",
       "747                      0                14.7                 2   \n",
       "748                      0                13.6                 4   \n",
       "749                      0                 8.5                 6   \n",
       "\n",
       "     total_intl_charge  number_customer_service_calls  total_net_minutes   \n",
       "0                 2.70                              1              707.2  \\\n",
       "1                 1.70                              0              647.9   \n",
       "2                 3.54                              4              630.9   \n",
       "3                 2.19                              3              538.5   \n",
       "4                 4.19                              3              652.1   \n",
       "..                 ...                            ...                ...   \n",
       "745               3.05                              0              548.4   \n",
       "746               3.32                              3              689.5   \n",
       "747               3.97                              3              654.6   \n",
       "748               3.67                              1              525.8   \n",
       "749               2.30                              0              584.9   \n",
       "\n",
       "     total_net_calls  total_net_charge  \n",
       "0                300             72.86  \n",
       "1                317             65.91  \n",
       "2                245             55.77  \n",
       "3                346             56.80  \n",
       "4                303             55.96  \n",
       "..               ...               ...  \n",
       "745              307             48.66  \n",
       "746              314             63.99  \n",
       "747              276             62.75  \n",
       "748              314             48.15  \n",
       "749              248             56.79  \n",
       "\n",
       "[750 rows x 12 columns]"
      ]
     },
     "execution_count": 13,
     "metadata": {},
     "output_type": "execute_result"
    }
   ],
   "source": [
    "def clean_data(df):\n",
    "  df['total_net_minutes'] = df[\"total_day_minutes\"] + df[\"total_eve_minutes\"] + df[\"total_night_minutes\"]\n",
    "  df[\"total_net_calls\"]   = df[\"total_day_calls\"] + df[\"total_eve_calls\"] + df[\"total_night_calls\"]\n",
    "  df[\"total_net_charge\"] = df[\"total_day_charge\"] + df[\"total_eve_charge\"] + df[\"total_night_charge\"]\n",
    "\n",
    "  df['voice_mail_plan'] = df['voice_mail_plan'].map({'yes': 1, 'no': 0})\n",
    "  df['international_plan'] = df['international_plan'].map({'yes': 1, 'no': 0})\n",
    "\n",
    "  df.drop(columns = [\"state\", \"area_code\",'total_day_charge', 'total_eve_charge','total_night_charge',\n",
    "                    'total_day_calls','total_eve_calls', 'total_night_calls', 'total_day_minutes',\n",
    "                     'total_eve_minutes', 'total_night_minutes'], inplace=True)\n",
    "  return df\n",
    "clean_data(train_data)\n",
    "clean_data(test_data)\n"
   ]
  },
  {
   "cell_type": "code",
   "execution_count": 14,
   "metadata": {
    "id": "UVLuJrGCd2fk"
   },
   "outputs": [],
   "source": [
    "# convert \"CHURN\" column from categorical into numerical\n",
    "train_data['churn'] = train_data['churn'].map({\"yes\": 1, \"no\": 0})"
   ]
  },
  {
   "cell_type": "code",
   "execution_count": 15,
   "metadata": {
    "colab": {
     "base_uri": "https://localhost:8080/",
     "height": 443
    },
    "id": "0s8Q_NoifaPo",
    "outputId": "5006a10b-1e75-4591-a652-481484d1d075"
   },
   "outputs": [
    {
     "data": {
      "text/html": [
       "<div>\n",
       "<style scoped>\n",
       "    .dataframe tbody tr th:only-of-type {\n",
       "        vertical-align: middle;\n",
       "    }\n",
       "\n",
       "    .dataframe tbody tr th {\n",
       "        vertical-align: top;\n",
       "    }\n",
       "\n",
       "    .dataframe thead th {\n",
       "        text-align: right;\n",
       "    }\n",
       "</style>\n",
       "<table border=\"1\" class=\"dataframe\">\n",
       "  <thead>\n",
       "    <tr style=\"text-align: right;\">\n",
       "      <th></th>\n",
       "      <th>account_length</th>\n",
       "      <th>international_plan</th>\n",
       "      <th>voice_mail_plan</th>\n",
       "      <th>number_vmail_messages</th>\n",
       "      <th>total_intl_minutes</th>\n",
       "      <th>total_intl_calls</th>\n",
       "      <th>total_intl_charge</th>\n",
       "      <th>number_customer_service_calls</th>\n",
       "      <th>churn</th>\n",
       "      <th>total_net_minutes</th>\n",
       "      <th>total_net_calls</th>\n",
       "      <th>total_net_charge</th>\n",
       "    </tr>\n",
       "  </thead>\n",
       "  <tbody>\n",
       "    <tr>\n",
       "      <th>0</th>\n",
       "      <td>107</td>\n",
       "      <td>0</td>\n",
       "      <td>1</td>\n",
       "      <td>26</td>\n",
       "      <td>13.7</td>\n",
       "      <td>3</td>\n",
       "      <td>3.70</td>\n",
       "      <td>1</td>\n",
       "      <td>0</td>\n",
       "      <td>611.5</td>\n",
       "      <td>329</td>\n",
       "      <td>55.54</td>\n",
       "    </tr>\n",
       "    <tr>\n",
       "      <th>1</th>\n",
       "      <td>137</td>\n",
       "      <td>0</td>\n",
       "      <td>0</td>\n",
       "      <td>0</td>\n",
       "      <td>12.2</td>\n",
       "      <td>5</td>\n",
       "      <td>3.29</td>\n",
       "      <td>0</td>\n",
       "      <td>0</td>\n",
       "      <td>527.2</td>\n",
       "      <td>328</td>\n",
       "      <td>59.00</td>\n",
       "    </tr>\n",
       "    <tr>\n",
       "      <th>2</th>\n",
       "      <td>84</td>\n",
       "      <td>1</td>\n",
       "      <td>0</td>\n",
       "      <td>0</td>\n",
       "      <td>6.6</td>\n",
       "      <td>7</td>\n",
       "      <td>1.78</td>\n",
       "      <td>2</td>\n",
       "      <td>0</td>\n",
       "      <td>558.2</td>\n",
       "      <td>248</td>\n",
       "      <td>65.02</td>\n",
       "    </tr>\n",
       "    <tr>\n",
       "      <th>3</th>\n",
       "      <td>75</td>\n",
       "      <td>1</td>\n",
       "      <td>0</td>\n",
       "      <td>0</td>\n",
       "      <td>10.1</td>\n",
       "      <td>3</td>\n",
       "      <td>2.73</td>\n",
       "      <td>3</td>\n",
       "      <td>0</td>\n",
       "      <td>501.9</td>\n",
       "      <td>356</td>\n",
       "      <td>49.36</td>\n",
       "    </tr>\n",
       "    <tr>\n",
       "      <th>4</th>\n",
       "      <td>121</td>\n",
       "      <td>0</td>\n",
       "      <td>1</td>\n",
       "      <td>24</td>\n",
       "      <td>7.5</td>\n",
       "      <td>7</td>\n",
       "      <td>2.03</td>\n",
       "      <td>3</td>\n",
       "      <td>0</td>\n",
       "      <td>779.3</td>\n",
       "      <td>314</td>\n",
       "      <td>76.28</td>\n",
       "    </tr>\n",
       "    <tr>\n",
       "      <th>...</th>\n",
       "      <td>...</td>\n",
       "      <td>...</td>\n",
       "      <td>...</td>\n",
       "      <td>...</td>\n",
       "      <td>...</td>\n",
       "      <td>...</td>\n",
       "      <td>...</td>\n",
       "      <td>...</td>\n",
       "      <td>...</td>\n",
       "      <td>...</td>\n",
       "      <td>...</td>\n",
       "      <td>...</td>\n",
       "    </tr>\n",
       "    <tr>\n",
       "      <th>4245</th>\n",
       "      <td>83</td>\n",
       "      <td>0</td>\n",
       "      <td>0</td>\n",
       "      <td>0</td>\n",
       "      <td>10.3</td>\n",
       "      <td>6</td>\n",
       "      <td>2.78</td>\n",
       "      <td>0</td>\n",
       "      <td>0</td>\n",
       "      <td>645.8</td>\n",
       "      <td>237</td>\n",
       "      <td>62.35</td>\n",
       "    </tr>\n",
       "    <tr>\n",
       "      <th>4246</th>\n",
       "      <td>73</td>\n",
       "      <td>0</td>\n",
       "      <td>0</td>\n",
       "      <td>0</td>\n",
       "      <td>11.5</td>\n",
       "      <td>6</td>\n",
       "      <td>3.11</td>\n",
       "      <td>3</td>\n",
       "      <td>0</td>\n",
       "      <td>495.3</td>\n",
       "      <td>260</td>\n",
       "      <td>49.77</td>\n",
       "    </tr>\n",
       "    <tr>\n",
       "      <th>4247</th>\n",
       "      <td>75</td>\n",
       "      <td>0</td>\n",
       "      <td>0</td>\n",
       "      <td>0</td>\n",
       "      <td>6.9</td>\n",
       "      <td>7</td>\n",
       "      <td>1.86</td>\n",
       "      <td>1</td>\n",
       "      <td>0</td>\n",
       "      <td>492.9</td>\n",
       "      <td>331</td>\n",
       "      <td>51.24</td>\n",
       "    </tr>\n",
       "    <tr>\n",
       "      <th>4248</th>\n",
       "      <td>50</td>\n",
       "      <td>0</td>\n",
       "      <td>1</td>\n",
       "      <td>40</td>\n",
       "      <td>9.9</td>\n",
       "      <td>5</td>\n",
       "      <td>2.67</td>\n",
       "      <td>2</td>\n",
       "      <td>0</td>\n",
       "      <td>756.2</td>\n",
       "      <td>369</td>\n",
       "      <td>72.42</td>\n",
       "    </tr>\n",
       "    <tr>\n",
       "      <th>4249</th>\n",
       "      <td>86</td>\n",
       "      <td>0</td>\n",
       "      <td>1</td>\n",
       "      <td>34</td>\n",
       "      <td>9.3</td>\n",
       "      <td>16</td>\n",
       "      <td>2.51</td>\n",
       "      <td>0</td>\n",
       "      <td>0</td>\n",
       "      <td>551.3</td>\n",
       "      <td>306</td>\n",
       "      <td>51.67</td>\n",
       "    </tr>\n",
       "  </tbody>\n",
       "</table>\n",
       "<p>4250 rows × 12 columns</p>\n",
       "</div>"
      ],
      "text/plain": [
       "      account_length international_plan voice_mail_plan   \n",
       "0                107                  0               1  \\\n",
       "1                137                  0               0   \n",
       "2                 84                  1               0   \n",
       "3                 75                  1               0   \n",
       "4                121                  0               1   \n",
       "...              ...                ...             ...   \n",
       "4245              83                  0               0   \n",
       "4246              73                  0               0   \n",
       "4247              75                  0               0   \n",
       "4248              50                  0               1   \n",
       "4249              86                  0               1   \n",
       "\n",
       "      number_vmail_messages  total_intl_minutes  total_intl_calls   \n",
       "0                        26                13.7                 3  \\\n",
       "1                         0                12.2                 5   \n",
       "2                         0                 6.6                 7   \n",
       "3                         0                10.1                 3   \n",
       "4                        24                 7.5                 7   \n",
       "...                     ...                 ...               ...   \n",
       "4245                      0                10.3                 6   \n",
       "4246                      0                11.5                 6   \n",
       "4247                      0                 6.9                 7   \n",
       "4248                     40                 9.9                 5   \n",
       "4249                     34                 9.3                16   \n",
       "\n",
       "      total_intl_charge  number_customer_service_calls churn   \n",
       "0                  3.70                              1     0  \\\n",
       "1                  3.29                              0     0   \n",
       "2                  1.78                              2     0   \n",
       "3                  2.73                              3     0   \n",
       "4                  2.03                              3     0   \n",
       "...                 ...                            ...   ...   \n",
       "4245               2.78                              0     0   \n",
       "4246               3.11                              3     0   \n",
       "4247               1.86                              1     0   \n",
       "4248               2.67                              2     0   \n",
       "4249               2.51                              0     0   \n",
       "\n",
       "      total_net_minutes  total_net_calls  total_net_charge  \n",
       "0                 611.5              329             55.54  \n",
       "1                 527.2              328             59.00  \n",
       "2                 558.2              248             65.02  \n",
       "3                 501.9              356             49.36  \n",
       "4                 779.3              314             76.28  \n",
       "...                 ...              ...               ...  \n",
       "4245              645.8              237             62.35  \n",
       "4246              495.3              260             49.77  \n",
       "4247              492.9              331             51.24  \n",
       "4248              756.2              369             72.42  \n",
       "4249              551.3              306             51.67  \n",
       "\n",
       "[4250 rows x 12 columns]"
      ]
     },
     "execution_count": 15,
     "metadata": {},
     "output_type": "execute_result"
    }
   ],
   "source": [
    "train_data"
   ]
  },
  {
   "cell_type": "code",
   "execution_count": 16,
   "metadata": {
    "colab": {
     "base_uri": "https://localhost:8080/",
     "height": 467
    },
    "id": "psL_bWaguae4",
    "outputId": "e25a845d-6d7e-485c-cba9-1500f5256796"
   },
   "outputs": [
    {
     "data": {
      "text/plain": [
       "<Axes: xlabel='account_length', ylabel='Count'>"
      ]
     },
     "execution_count": 16,
     "metadata": {},
     "output_type": "execute_result"
    },
    {
     "data": {
      "image/png": "[encoded data removed]",
      "text/plain": [
       "<Figure size 640x480 with 1 Axes>"
      ]
     },
     "metadata": {},
     "output_type": "display_data"
    }
   ],
   "source": [
    "sns.histplot(x=train_data['account_length'],hue = train_data['churn'])"
   ]
  },
  {
   "cell_type": "code",
   "execution_count": 17,
   "metadata": {},
   "outputs": [
    {
     "data": {
      "image/png": "[encoded data removed]",
      "text/plain": [
       "<Figure size 1500x1000 with 6 Axes>"
      ]
     },
     "metadata": {},
     "output_type": "display_data"
    }
   ],
   "source": [
    "import matplotlib.pyplot as plt\n",
    "import seaborn as sns\n",
    "\n",
    "# Increase figure size\n",
    "fig, axes = plt.subplots(nrows=2, ncols=3, figsize=(15, 10), sharey=True)\n",
    "\n",
    "# Plotting\n",
    "sns.histplot(data=train_data, x='total_intl_calls', hue='churn', ax=axes[0, 0])\n",
    "sns.histplot(data=train_data, x='total_intl_charge', hue='churn', ax=axes[0, 1], color='orange')\n",
    "sns.histplot(data=train_data, x='total_intl_minutes', hue='churn', ax=axes[0, 2], color='red')\n",
    "sns.histplot(data=train_data, x='total_net_minutes', hue='churn', ax=axes[1, 0], color='red')\n",
    "sns.histplot(data=train_data, x='total_net_calls', hue='churn', ax=axes[1, 1], color='green')\n",
    "sns.histplot(data=train_data, x='total_net_charge', hue='churn', ax=axes[1, 2], color='blue')\n",
    "\n",
    "# Rotate x-axis labels\n",
    "for ax in axes.flat:\n",
    "    ax.tick_params(axis='x', labelrotation=45)\n",
    "\n",
    "plt.tight_layout()  # Adjust spacing between subplots\n",
    "plt.show()\n"
   ]
  },
  {
   "cell_type": "code",
   "execution_count": 18,
   "metadata": {
    "colab": {
     "base_uri": "https://localhost:8080/",
     "height": 463
    },
    "id": "wFsWbnjjMP9S",
    "outputId": "a9218832-1a38-4500-9711-3c561bd3570d"
   },
   "outputs": [
    {
     "data": {
      "text/plain": [
       "<Axes: xlabel='international_plan'>"
      ]
     },
     "execution_count": 18,
     "metadata": {},
     "output_type": "execute_result"
    },
    {
     "data": {
      "image/png": "[encoded data removed]",
      "text/plain": [
       "<Figure size 640x480 with 1 Axes>"
      ]
     },
     "metadata": {},
     "output_type": "display_data"
    }
   ],
   "source": [
    "train_data['international_plan'].value_counts().plot(kind = 'bar', label = True, color = [\"skyblue\", \"orange\"])"
   ]
  },
  {
   "cell_type": "code",
   "execution_count": 19,
   "metadata": {
    "colab": {
     "base_uri": "https://localhost:8080/",
     "height": 450
    },
    "id": "2lmARtynNKyE",
    "outputId": "1c28284c-7a11-41a2-c486-1114731b011d"
   },
   "outputs": [
    {
     "data": {
      "image/png": "[encoded data removed]",
      "text/plain": [
       "<Figure size 640x480 with 2 Axes>"
      ]
     },
     "metadata": {},
     "output_type": "display_data"
    }
   ],
   "source": [
    "fig, axes = plt.subplots(nrows=1, ncols=2, sharey=True)\n",
    "\n",
    "sns.countplot(data=train_data, x=\"international_plan\", hue=\"churn\", ax=axes[0])\n",
    "sns.countplot(data=train_data, x=\"voice_mail_plan\", hue=\"churn\", ax=axes[1]);"
   ]
  },
  {
   "cell_type": "markdown",
   "metadata": {
    "id": "RHPYTTjsKgcy"
   },
   "source": [
    "CORRELATION BETWEEN NUMERICAL COLUMS\n",
    "\n"
   ]
  },
  {
   "cell_type": "code",
   "execution_count": 20,
   "metadata": {
    "colab": {
     "base_uri": "https://localhost:8080/",
     "height": 889
    },
    "id": "75Fs7QBmKeaZ",
    "outputId": "ce261b55-5ff8-4efe-ff00-814688d853da"
   },
   "outputs": [
    {
     "data": {
      "image/png": "[encoded data removed]",
      "text/plain": [
       "<Figure size 1200x800 with 2 Axes>"
      ]
     },
     "metadata": {},
     "output_type": "display_data"
    }
   ],
   "source": [
    "num_cols = train_data.select_dtypes(include = [\"float\", \"int\"]).columns\n",
    "corr_data = train_data[num_cols].corr()\n",
    "plt.figure(figsize = [12, 8])\n",
    "sns.heatmap(corr_data, annot = True)\n",
    "plt.show()"
   ]
  },
  {
   "cell_type": "markdown",
   "metadata": {},
   "source": [
    "## DEALING WITH OUTLIERS"
   ]
  },
  {
   "cell_type": "code",
   "execution_count": 21,
   "metadata": {},
   "outputs": [
    {
     "data": {
      "image/png": "[encoded data removed]",
      "text/plain": [
       "<Figure size 1000x600 with 1 Axes>"
      ]
     },
     "metadata": {},
     "output_type": "display_data"
    }
   ],
   "source": [
    "plt.figure(figsize=(10, 6))\n",
    "sns.boxplot(data=train_data, orient=\"h\", palette=\"Set2\")\n",
    "plt.title(\"Box Plot of Data\")\n",
    "plt.xlabel(\"Values\")\n",
    "plt.ylabel(\"Columns\")\n",
    "plt.show()"
   ]
  },
  {
   "cell_type": "code",
   "execution_count": 22,
   "metadata": {},
   "outputs": [
    {
     "data": {
      "text/html": [
       "<div>\n",
       "<style scoped>\n",
       "    .dataframe tbody tr th:only-of-type {\n",
       "        vertical-align: middle;\n",
       "    }\n",
       "\n",
       "    .dataframe tbody tr th {\n",
       "        vertical-align: top;\n",
       "    }\n",
       "\n",
       "    .dataframe thead th {\n",
       "        text-align: right;\n",
       "    }\n",
       "</style>\n",
       "<table border=\"1\" class=\"dataframe\">\n",
       "  <thead>\n",
       "    <tr style=\"text-align: right;\">\n",
       "      <th></th>\n",
       "      <th>account_length</th>\n",
       "      <th>international_plan</th>\n",
       "      <th>voice_mail_plan</th>\n",
       "      <th>number_vmail_messages</th>\n",
       "      <th>total_intl_minutes</th>\n",
       "      <th>total_intl_calls</th>\n",
       "      <th>total_intl_charge</th>\n",
       "      <th>number_customer_service_calls</th>\n",
       "      <th>churn</th>\n",
       "      <th>total_net_minutes</th>\n",
       "      <th>total_net_calls</th>\n",
       "      <th>total_net_charge</th>\n",
       "    </tr>\n",
       "  </thead>\n",
       "  <tbody>\n",
       "    <tr>\n",
       "      <th>0</th>\n",
       "      <td>107</td>\n",
       "      <td>0</td>\n",
       "      <td>1</td>\n",
       "      <td>26</td>\n",
       "      <td>13.7</td>\n",
       "      <td>3</td>\n",
       "      <td>3.70</td>\n",
       "      <td>1</td>\n",
       "      <td>0</td>\n",
       "      <td>611.5</td>\n",
       "      <td>329</td>\n",
       "      <td>55.54</td>\n",
       "    </tr>\n",
       "    <tr>\n",
       "      <th>1</th>\n",
       "      <td>137</td>\n",
       "      <td>0</td>\n",
       "      <td>0</td>\n",
       "      <td>0</td>\n",
       "      <td>12.2</td>\n",
       "      <td>5</td>\n",
       "      <td>3.29</td>\n",
       "      <td>0</td>\n",
       "      <td>0</td>\n",
       "      <td>527.2</td>\n",
       "      <td>328</td>\n",
       "      <td>59.00</td>\n",
       "    </tr>\n",
       "    <tr>\n",
       "      <th>2</th>\n",
       "      <td>84</td>\n",
       "      <td>1</td>\n",
       "      <td>0</td>\n",
       "      <td>0</td>\n",
       "      <td>6.6</td>\n",
       "      <td>7</td>\n",
       "      <td>1.78</td>\n",
       "      <td>2</td>\n",
       "      <td>0</td>\n",
       "      <td>558.2</td>\n",
       "      <td>248</td>\n",
       "      <td>65.02</td>\n",
       "    </tr>\n",
       "    <tr>\n",
       "      <th>3</th>\n",
       "      <td>75</td>\n",
       "      <td>1</td>\n",
       "      <td>0</td>\n",
       "      <td>0</td>\n",
       "      <td>10.1</td>\n",
       "      <td>3</td>\n",
       "      <td>2.73</td>\n",
       "      <td>3</td>\n",
       "      <td>0</td>\n",
       "      <td>501.9</td>\n",
       "      <td>356</td>\n",
       "      <td>49.36</td>\n",
       "    </tr>\n",
       "    <tr>\n",
       "      <th>4</th>\n",
       "      <td>121</td>\n",
       "      <td>0</td>\n",
       "      <td>1</td>\n",
       "      <td>24</td>\n",
       "      <td>7.5</td>\n",
       "      <td>7</td>\n",
       "      <td>2.03</td>\n",
       "      <td>3</td>\n",
       "      <td>0</td>\n",
       "      <td>779.3</td>\n",
       "      <td>314</td>\n",
       "      <td>76.28</td>\n",
       "    </tr>\n",
       "    <tr>\n",
       "      <th>...</th>\n",
       "      <td>...</td>\n",
       "      <td>...</td>\n",
       "      <td>...</td>\n",
       "      <td>...</td>\n",
       "      <td>...</td>\n",
       "      <td>...</td>\n",
       "      <td>...</td>\n",
       "      <td>...</td>\n",
       "      <td>...</td>\n",
       "      <td>...</td>\n",
       "      <td>...</td>\n",
       "      <td>...</td>\n",
       "    </tr>\n",
       "    <tr>\n",
       "      <th>4245</th>\n",
       "      <td>83</td>\n",
       "      <td>0</td>\n",
       "      <td>0</td>\n",
       "      <td>0</td>\n",
       "      <td>10.3</td>\n",
       "      <td>6</td>\n",
       "      <td>2.78</td>\n",
       "      <td>0</td>\n",
       "      <td>0</td>\n",
       "      <td>645.8</td>\n",
       "      <td>237</td>\n",
       "      <td>62.35</td>\n",
       "    </tr>\n",
       "    <tr>\n",
       "      <th>4246</th>\n",
       "      <td>73</td>\n",
       "      <td>0</td>\n",
       "      <td>0</td>\n",
       "      <td>0</td>\n",
       "      <td>11.5</td>\n",
       "      <td>6</td>\n",
       "      <td>3.11</td>\n",
       "      <td>3</td>\n",
       "      <td>0</td>\n",
       "      <td>495.3</td>\n",
       "      <td>260</td>\n",
       "      <td>49.77</td>\n",
       "    </tr>\n",
       "    <tr>\n",
       "      <th>4247</th>\n",
       "      <td>75</td>\n",
       "      <td>0</td>\n",
       "      <td>0</td>\n",
       "      <td>0</td>\n",
       "      <td>6.9</td>\n",
       "      <td>7</td>\n",
       "      <td>1.86</td>\n",
       "      <td>1</td>\n",
       "      <td>0</td>\n",
       "      <td>492.9</td>\n",
       "      <td>331</td>\n",
       "      <td>51.24</td>\n",
       "    </tr>\n",
       "    <tr>\n",
       "      <th>4248</th>\n",
       "      <td>50</td>\n",
       "      <td>0</td>\n",
       "      <td>1</td>\n",
       "      <td>40</td>\n",
       "      <td>9.9</td>\n",
       "      <td>5</td>\n",
       "      <td>2.67</td>\n",
       "      <td>2</td>\n",
       "      <td>0</td>\n",
       "      <td>756.2</td>\n",
       "      <td>369</td>\n",
       "      <td>72.42</td>\n",
       "    </tr>\n",
       "    <tr>\n",
       "      <th>4249</th>\n",
       "      <td>86</td>\n",
       "      <td>0</td>\n",
       "      <td>1</td>\n",
       "      <td>34</td>\n",
       "      <td>9.3</td>\n",
       "      <td>4</td>\n",
       "      <td>2.51</td>\n",
       "      <td>0</td>\n",
       "      <td>0</td>\n",
       "      <td>551.3</td>\n",
       "      <td>306</td>\n",
       "      <td>51.67</td>\n",
       "    </tr>\n",
       "  </tbody>\n",
       "</table>\n",
       "<p>4250 rows × 12 columns</p>\n",
       "</div>"
      ],
      "text/plain": [
       "      account_length international_plan voice_mail_plan   \n",
       "0                107                  0               1  \\\n",
       "1                137                  0               0   \n",
       "2                 84                  1               0   \n",
       "3                 75                  1               0   \n",
       "4                121                  0               1   \n",
       "...              ...                ...             ...   \n",
       "4245              83                  0               0   \n",
       "4246              73                  0               0   \n",
       "4247              75                  0               0   \n",
       "4248              50                  0               1   \n",
       "4249              86                  0               1   \n",
       "\n",
       "      number_vmail_messages  total_intl_minutes  total_intl_calls   \n",
       "0                        26                13.7                 3  \\\n",
       "1                         0                12.2                 5   \n",
       "2                         0                 6.6                 7   \n",
       "3                         0                10.1                 3   \n",
       "4                        24                 7.5                 7   \n",
       "...                     ...                 ...               ...   \n",
       "4245                      0                10.3                 6   \n",
       "4246                      0                11.5                 6   \n",
       "4247                      0                 6.9                 7   \n",
       "4248                     40                 9.9                 5   \n",
       "4249                     34                 9.3                 4   \n",
       "\n",
       "      total_intl_charge  number_customer_service_calls churn   \n",
       "0                  3.70                              1     0  \\\n",
       "1                  3.29                              0     0   \n",
       "2                  1.78                              2     0   \n",
       "3                  2.73                              3     0   \n",
       "4                  2.03                              3     0   \n",
       "...                 ...                            ...   ...   \n",
       "4245               2.78                              0     0   \n",
       "4246               3.11                              3     0   \n",
       "4247               1.86                              1     0   \n",
       "4248               2.67                              2     0   \n",
       "4249               2.51                              0     0   \n",
       "\n",
       "      total_net_minutes  total_net_calls  total_net_charge  \n",
       "0                 611.5              329             55.54  \n",
       "1                 527.2              328             59.00  \n",
       "2                 558.2              248             65.02  \n",
       "3                 501.9              356             49.36  \n",
       "4                 779.3              314             76.28  \n",
       "...                 ...              ...               ...  \n",
       "4245              645.8              237             62.35  \n",
       "4246              495.3              260             49.77  \n",
       "4247              492.9              331             51.24  \n",
       "4248              756.2              369             72.42  \n",
       "4249              551.3              306             51.67  \n",
       "\n",
       "[4250 rows x 12 columns]"
      ]
     },
     "execution_count": 22,
     "metadata": {},
     "output_type": "execute_result"
    }
   ],
   "source": [
    "def replace_outliers_with_median(series):\n",
    "    # Calculate quartiles and IQR\n",
    "    Q1 = series.quantile(0.25)\n",
    "    Q3 = series.quantile(0.75)\n",
    "    IQR = Q3 - Q1\n",
    "    \n",
    "    # Calculate bounds for outliers\n",
    "    lower_bound = Q1 - 1.5 * IQR\n",
    "    upper_bound = Q3 + 1.5 * IQR\n",
    "    \n",
    "    # Replace outliers with median\n",
    "    series = series.mask((series < lower_bound) | (series > upper_bound), series.median())\n",
    "    return series\n",
    "\n",
    "# Apply outlier replacement to each column\n",
    "for col in num_cols:\n",
    "    train_data[col] = replace_outliers_with_median(train_data[col])\n",
    "\n",
    "train_data\n"
   ]
  },
  {
   "cell_type": "code",
   "execution_count": 23,
   "metadata": {},
   "outputs": [
    {
     "data": {
      "text/plain": [
       "account_length                   0\n",
       "international_plan               0\n",
       "voice_mail_plan                  0\n",
       "number_vmail_messages            0\n",
       "total_intl_minutes               0\n",
       "total_intl_calls                 0\n",
       "total_intl_charge                0\n",
       "number_customer_service_calls    0\n",
       "churn                            0\n",
       "total_net_minutes                0\n",
       "total_net_calls                  0\n",
       "total_net_charge                 0\n",
       "dtype: int64"
      ]
     },
     "execution_count": 23,
     "metadata": {},
     "output_type": "execute_result"
    }
   ],
   "source": [
    "train_data.isnull().sum()"
   ]
  },
  {
   "cell_type": "code",
   "execution_count": 24,
   "metadata": {},
   "outputs": [
    {
     "data": {
      "text/html": [
       "<div>\n",
       "<style scoped>\n",
       "    .dataframe tbody tr th:only-of-type {\n",
       "        vertical-align: middle;\n",
       "    }\n",
       "\n",
       "    .dataframe tbody tr th {\n",
       "        vertical-align: top;\n",
       "    }\n",
       "\n",
       "    .dataframe thead th {\n",
       "        text-align: right;\n",
       "    }\n",
       "</style>\n",
       "<table border=\"1\" class=\"dataframe\">\n",
       "  <thead>\n",
       "    <tr style=\"text-align: right;\">\n",
       "      <th></th>\n",
       "      <th>account_length</th>\n",
       "      <th>international_plan</th>\n",
       "      <th>voice_mail_plan</th>\n",
       "      <th>number_vmail_messages</th>\n",
       "      <th>total_intl_minutes</th>\n",
       "      <th>total_intl_calls</th>\n",
       "      <th>total_intl_charge</th>\n",
       "      <th>number_customer_service_calls</th>\n",
       "      <th>churn</th>\n",
       "      <th>total_net_minutes</th>\n",
       "      <th>total_net_calls</th>\n",
       "      <th>total_net_charge</th>\n",
       "    </tr>\n",
       "  </thead>\n",
       "  <tbody>\n",
       "    <tr>\n",
       "      <th>0</th>\n",
       "      <td>107</td>\n",
       "      <td>0</td>\n",
       "      <td>1</td>\n",
       "      <td>26</td>\n",
       "      <td>13.7</td>\n",
       "      <td>3</td>\n",
       "      <td>3.70</td>\n",
       "      <td>1</td>\n",
       "      <td>0</td>\n",
       "      <td>611.5</td>\n",
       "      <td>329</td>\n",
       "      <td>55.54</td>\n",
       "    </tr>\n",
       "    <tr>\n",
       "      <th>1</th>\n",
       "      <td>137</td>\n",
       "      <td>0</td>\n",
       "      <td>0</td>\n",
       "      <td>0</td>\n",
       "      <td>12.2</td>\n",
       "      <td>5</td>\n",
       "      <td>3.29</td>\n",
       "      <td>0</td>\n",
       "      <td>0</td>\n",
       "      <td>527.2</td>\n",
       "      <td>328</td>\n",
       "      <td>59.00</td>\n",
       "    </tr>\n",
       "    <tr>\n",
       "      <th>2</th>\n",
       "      <td>84</td>\n",
       "      <td>1</td>\n",
       "      <td>0</td>\n",
       "      <td>0</td>\n",
       "      <td>6.6</td>\n",
       "      <td>7</td>\n",
       "      <td>1.78</td>\n",
       "      <td>2</td>\n",
       "      <td>0</td>\n",
       "      <td>558.2</td>\n",
       "      <td>248</td>\n",
       "      <td>65.02</td>\n",
       "    </tr>\n",
       "    <tr>\n",
       "      <th>3</th>\n",
       "      <td>75</td>\n",
       "      <td>1</td>\n",
       "      <td>0</td>\n",
       "      <td>0</td>\n",
       "      <td>10.1</td>\n",
       "      <td>3</td>\n",
       "      <td>2.73</td>\n",
       "      <td>3</td>\n",
       "      <td>0</td>\n",
       "      <td>501.9</td>\n",
       "      <td>356</td>\n",
       "      <td>49.36</td>\n",
       "    </tr>\n",
       "    <tr>\n",
       "      <th>4</th>\n",
       "      <td>121</td>\n",
       "      <td>0</td>\n",
       "      <td>1</td>\n",
       "      <td>24</td>\n",
       "      <td>7.5</td>\n",
       "      <td>7</td>\n",
       "      <td>2.03</td>\n",
       "      <td>3</td>\n",
       "      <td>0</td>\n",
       "      <td>779.3</td>\n",
       "      <td>314</td>\n",
       "      <td>76.28</td>\n",
       "    </tr>\n",
       "    <tr>\n",
       "      <th>...</th>\n",
       "      <td>...</td>\n",
       "      <td>...</td>\n",
       "      <td>...</td>\n",
       "      <td>...</td>\n",
       "      <td>...</td>\n",
       "      <td>...</td>\n",
       "      <td>...</td>\n",
       "      <td>...</td>\n",
       "      <td>...</td>\n",
       "      <td>...</td>\n",
       "      <td>...</td>\n",
       "      <td>...</td>\n",
       "    </tr>\n",
       "    <tr>\n",
       "      <th>4245</th>\n",
       "      <td>83</td>\n",
       "      <td>0</td>\n",
       "      <td>0</td>\n",
       "      <td>0</td>\n",
       "      <td>10.3</td>\n",
       "      <td>6</td>\n",
       "      <td>2.78</td>\n",
       "      <td>0</td>\n",
       "      <td>0</td>\n",
       "      <td>645.8</td>\n",
       "      <td>237</td>\n",
       "      <td>62.35</td>\n",
       "    </tr>\n",
       "    <tr>\n",
       "      <th>4246</th>\n",
       "      <td>73</td>\n",
       "      <td>0</td>\n",
       "      <td>0</td>\n",
       "      <td>0</td>\n",
       "      <td>11.5</td>\n",
       "      <td>6</td>\n",
       "      <td>3.11</td>\n",
       "      <td>3</td>\n",
       "      <td>0</td>\n",
       "      <td>495.3</td>\n",
       "      <td>260</td>\n",
       "      <td>49.77</td>\n",
       "    </tr>\n",
       "    <tr>\n",
       "      <th>4247</th>\n",
       "      <td>75</td>\n",
       "      <td>0</td>\n",
       "      <td>0</td>\n",
       "      <td>0</td>\n",
       "      <td>6.9</td>\n",
       "      <td>7</td>\n",
       "      <td>1.86</td>\n",
       "      <td>1</td>\n",
       "      <td>0</td>\n",
       "      <td>492.9</td>\n",
       "      <td>331</td>\n",
       "      <td>51.24</td>\n",
       "    </tr>\n",
       "    <tr>\n",
       "      <th>4248</th>\n",
       "      <td>50</td>\n",
       "      <td>0</td>\n",
       "      <td>1</td>\n",
       "      <td>40</td>\n",
       "      <td>9.9</td>\n",
       "      <td>5</td>\n",
       "      <td>2.67</td>\n",
       "      <td>2</td>\n",
       "      <td>0</td>\n",
       "      <td>756.2</td>\n",
       "      <td>369</td>\n",
       "      <td>72.42</td>\n",
       "    </tr>\n",
       "    <tr>\n",
       "      <th>4249</th>\n",
       "      <td>86</td>\n",
       "      <td>0</td>\n",
       "      <td>1</td>\n",
       "      <td>34</td>\n",
       "      <td>9.3</td>\n",
       "      <td>4</td>\n",
       "      <td>2.51</td>\n",
       "      <td>0</td>\n",
       "      <td>0</td>\n",
       "      <td>551.3</td>\n",
       "      <td>306</td>\n",
       "      <td>51.67</td>\n",
       "    </tr>\n",
       "  </tbody>\n",
       "</table>\n",
       "<p>4250 rows × 12 columns</p>\n",
       "</div>"
      ],
      "text/plain": [
       "      account_length international_plan voice_mail_plan   \n",
       "0                107                  0               1  \\\n",
       "1                137                  0               0   \n",
       "2                 84                  1               0   \n",
       "3                 75                  1               0   \n",
       "4                121                  0               1   \n",
       "...              ...                ...             ...   \n",
       "4245              83                  0               0   \n",
       "4246              73                  0               0   \n",
       "4247              75                  0               0   \n",
       "4248              50                  0               1   \n",
       "4249              86                  0               1   \n",
       "\n",
       "      number_vmail_messages  total_intl_minutes  total_intl_calls   \n",
       "0                        26                13.7                 3  \\\n",
       "1                         0                12.2                 5   \n",
       "2                         0                 6.6                 7   \n",
       "3                         0                10.1                 3   \n",
       "4                        24                 7.5                 7   \n",
       "...                     ...                 ...               ...   \n",
       "4245                      0                10.3                 6   \n",
       "4246                      0                11.5                 6   \n",
       "4247                      0                 6.9                 7   \n",
       "4248                     40                 9.9                 5   \n",
       "4249                     34                 9.3                 4   \n",
       "\n",
       "      total_intl_charge  number_customer_service_calls churn   \n",
       "0                  3.70                              1     0  \\\n",
       "1                  3.29                              0     0   \n",
       "2                  1.78                              2     0   \n",
       "3                  2.73                              3     0   \n",
       "4                  2.03                              3     0   \n",
       "...                 ...                            ...   ...   \n",
       "4245               2.78                              0     0   \n",
       "4246               3.11                              3     0   \n",
       "4247               1.86                              1     0   \n",
       "4248               2.67                              2     0   \n",
       "4249               2.51                              0     0   \n",
       "\n",
       "      total_net_minutes  total_net_calls  total_net_charge  \n",
       "0                 611.5              329             55.54  \n",
       "1                 527.2              328             59.00  \n",
       "2                 558.2              248             65.02  \n",
       "3                 501.9              356             49.36  \n",
       "4                 779.3              314             76.28  \n",
       "...                 ...              ...               ...  \n",
       "4245              645.8              237             62.35  \n",
       "4246              495.3              260             49.77  \n",
       "4247              492.9              331             51.24  \n",
       "4248              756.2              369             72.42  \n",
       "4249              551.3              306             51.67  \n",
       "\n",
       "[4250 rows x 12 columns]"
      ]
     },
     "execution_count": 24,
     "metadata": {},
     "output_type": "execute_result"
    }
   ],
   "source": [
    "train_data[num_cols] = train_data[num_cols].fillna(train_data[num_cols].median())\n",
    "train_data"
   ]
  },
  {
   "cell_type": "markdown",
   "metadata": {
    "id": "HmybwxqWEitV"
   },
   "source": [
    "## SCALLING THE TRAIN DATA"
   ]
  },
  {
   "cell_type": "code",
   "execution_count": 25,
   "metadata": {
    "colab": {
     "base_uri": "https://localhost:8080/",
     "height": 226
    },
    "id": "VuU_hSyeiNbD",
    "outputId": "fa8503d4-b730-414c-f3a5-943ddaeb93f9"
   },
   "outputs": [
    {
     "data": {
      "text/html": [
       "<div>\n",
       "<style scoped>\n",
       "    .dataframe tbody tr th:only-of-type {\n",
       "        vertical-align: middle;\n",
       "    }\n",
       "\n",
       "    .dataframe tbody tr th {\n",
       "        vertical-align: top;\n",
       "    }\n",
       "\n",
       "    .dataframe thead th {\n",
       "        text-align: right;\n",
       "    }\n",
       "</style>\n",
       "<table border=\"1\" class=\"dataframe\">\n",
       "  <thead>\n",
       "    <tr style=\"text-align: right;\">\n",
       "      <th></th>\n",
       "      <th>account_length</th>\n",
       "      <th>number_vmail_messages</th>\n",
       "      <th>total_intl_minutes</th>\n",
       "      <th>total_intl_calls</th>\n",
       "      <th>total_intl_charge</th>\n",
       "      <th>number_customer_service_calls</th>\n",
       "      <th>total_net_minutes</th>\n",
       "      <th>total_net_calls</th>\n",
       "      <th>total_net_charge</th>\n",
       "      <th>voice_mail_plan</th>\n",
       "      <th>international_plan</th>\n",
       "    </tr>\n",
       "  </thead>\n",
       "  <tbody>\n",
       "    <tr>\n",
       "      <th>0</th>\n",
       "      <td>0.188764</td>\n",
       "      <td>1.550048</td>\n",
       "      <td>1.340576</td>\n",
       "      <td>-0.591544</td>\n",
       "      <td>1.341366</td>\n",
       "      <td>-0.295258</td>\n",
       "      <td>0.355208</td>\n",
       "      <td>0.867180</td>\n",
       "      <td>-0.112588</td>\n",
       "      <td>1</td>\n",
       "      <td>0</td>\n",
       "    </tr>\n",
       "    <tr>\n",
       "      <th>1</th>\n",
       "      <td>0.961465</td>\n",
       "      <td>-0.542948</td>\n",
       "      <td>0.749910</td>\n",
       "      <td>0.380074</td>\n",
       "      <td>0.743382</td>\n",
       "      <td>-1.361399</td>\n",
       "      <td>-0.623766</td>\n",
       "      <td>0.837428</td>\n",
       "      <td>0.233794</td>\n",
       "      <td>0</td>\n",
       "      <td>0</td>\n",
       "    </tr>\n",
       "    <tr>\n",
       "      <th>2</th>\n",
       "      <td>-0.403641</td>\n",
       "      <td>-0.542948</td>\n",
       "      <td>-1.455244</td>\n",
       "      <td>1.351692</td>\n",
       "      <td>-1.458952</td>\n",
       "      <td>0.770882</td>\n",
       "      <td>-0.263764</td>\n",
       "      <td>-1.542703</td>\n",
       "      <td>0.836458</td>\n",
       "      <td>0</td>\n",
       "      <td>1</td>\n",
       "    </tr>\n",
       "    <tr>\n",
       "      <th>3</th>\n",
       "      <td>-0.635452</td>\n",
       "      <td>-0.542948</td>\n",
       "      <td>-0.077023</td>\n",
       "      <td>-0.591544</td>\n",
       "      <td>-0.073378</td>\n",
       "      <td>1.837023</td>\n",
       "      <td>-0.917575</td>\n",
       "      <td>1.670474</td>\n",
       "      <td>-0.731270</td>\n",
       "      <td>0</td>\n",
       "      <td>1</td>\n",
       "    </tr>\n",
       "    <tr>\n",
       "      <th>4</th>\n",
       "      <td>0.549358</td>\n",
       "      <td>1.389048</td>\n",
       "      <td>-1.100845</td>\n",
       "      <td>1.351692</td>\n",
       "      <td>-1.094327</td>\n",
       "      <td>1.837023</td>\n",
       "      <td>2.303867</td>\n",
       "      <td>0.420905</td>\n",
       "      <td>1.963700</td>\n",
       "      <td>1</td>\n",
       "      <td>0</td>\n",
       "    </tr>\n",
       "  </tbody>\n",
       "</table>\n",
       "</div>"
      ],
      "text/plain": [
       "   account_length  number_vmail_messages  total_intl_minutes   \n",
       "0        0.188764               1.550048            1.340576  \\\n",
       "1        0.961465              -0.542948            0.749910   \n",
       "2       -0.403641              -0.542948           -1.455244   \n",
       "3       -0.635452              -0.542948           -0.077023   \n",
       "4        0.549358               1.389048           -1.100845   \n",
       "\n",
       "   total_intl_calls  total_intl_charge  number_customer_service_calls   \n",
       "0         -0.591544           1.341366                      -0.295258  \\\n",
       "1          0.380074           0.743382                      -1.361399   \n",
       "2          1.351692          -1.458952                       0.770882   \n",
       "3         -0.591544          -0.073378                       1.837023   \n",
       "4          1.351692          -1.094327                       1.837023   \n",
       "\n",
       "   total_net_minutes  total_net_calls  total_net_charge voice_mail_plan   \n",
       "0           0.355208         0.867180         -0.112588               1  \\\n",
       "1          -0.623766         0.837428          0.233794               0   \n",
       "2          -0.263764        -1.542703          0.836458               0   \n",
       "3          -0.917575         1.670474         -0.731270               0   \n",
       "4           2.303867         0.420905          1.963700               1   \n",
       "\n",
       "  international_plan  \n",
       "0                  0  \n",
       "1                  0  \n",
       "2                  1  \n",
       "3                  1  \n",
       "4                  0  "
      ]
     },
     "execution_count": 25,
     "metadata": {},
     "output_type": "execute_result"
    }
   ],
   "source": [
    "num_cols = train_data.select_dtypes(include = [\"float\", \"int\"]).columns\n",
    "cat_cols = [\"voice_mail_plan\", \"international_plan\"]\n",
    "\n",
    "from sklearn.preprocessing import StandardScaler\n",
    "\n",
    "scaler = StandardScaler()\n",
    "\n",
    "scaled_cols = scaler.fit_transform(train_data[num_cols])\n",
    "train_scaled = pd.DataFrame(scaled_cols, columns = num_cols )\n",
    "train_scaled[cat_cols] = train_data[cat_cols]\n",
    "train_scaled.head()"
   ]
  },
  {
   "cell_type": "markdown",
   "metadata": {
    "id": "JbhVCPeXUF9Y"
   },
   "source": [
    "SCALLING THE TEST DATA"
   ]
  },
  {
   "cell_type": "code",
   "execution_count": 26,
   "metadata": {
    "colab": {
     "base_uri": "https://localhost:8080/",
     "height": 226
    },
    "id": "05J4NQdwT9it",
    "outputId": "5d400674-489f-46ec-deb3-32d98bea0360"
   },
   "outputs": [
    {
     "data": {
      "text/html": [
       "<div>\n",
       "<style scoped>\n",
       "    .dataframe tbody tr th:only-of-type {\n",
       "        vertical-align: middle;\n",
       "    }\n",
       "\n",
       "    .dataframe tbody tr th {\n",
       "        vertical-align: top;\n",
       "    }\n",
       "\n",
       "    .dataframe thead th {\n",
       "        text-align: right;\n",
       "    }\n",
       "</style>\n",
       "<table border=\"1\" class=\"dataframe\">\n",
       "  <thead>\n",
       "    <tr style=\"text-align: right;\">\n",
       "      <th></th>\n",
       "      <th>id</th>\n",
       "      <th>account_length</th>\n",
       "      <th>number_vmail_messages</th>\n",
       "      <th>total_intl_minutes</th>\n",
       "      <th>total_intl_calls</th>\n",
       "      <th>total_intl_charge</th>\n",
       "      <th>number_customer_service_calls</th>\n",
       "      <th>total_net_minutes</th>\n",
       "      <th>total_net_calls</th>\n",
       "      <th>total_net_charge</th>\n",
       "      <th>voice_mail_plan</th>\n",
       "      <th>international_plan</th>\n",
       "    </tr>\n",
       "  </thead>\n",
       "  <tbody>\n",
       "    <tr>\n",
       "      <th>0</th>\n",
       "      <td>-1.729743</td>\n",
       "      <td>0.696065</td>\n",
       "      <td>1.172240</td>\n",
       "      <td>-0.106243</td>\n",
       "      <td>-0.613702</td>\n",
       "      <td>-0.106976</td>\n",
       "      <td>-0.497639</td>\n",
       "      <td>1.369617</td>\n",
       "      <td>-0.041312</td>\n",
       "      <td>1.536327</td>\n",
       "      <td>1</td>\n",
       "      <td>0</td>\n",
       "    </tr>\n",
       "    <tr>\n",
       "      <th>1</th>\n",
       "      <td>-1.725124</td>\n",
       "      <td>0.444001</td>\n",
       "      <td>-0.599015</td>\n",
       "      <td>-1.442710</td>\n",
       "      <td>0.625821</td>\n",
       "      <td>-1.445297</td>\n",
       "      <td>-1.281734</td>\n",
       "      <td>0.713930</td>\n",
       "      <td>0.473065</td>\n",
       "      <td>0.865723</td>\n",
       "      <td>0</td>\n",
       "      <td>1</td>\n",
       "    </tr>\n",
       "    <tr>\n",
       "      <th>2</th>\n",
       "      <td>-1.720505</td>\n",
       "      <td>-0.967554</td>\n",
       "      <td>-0.599015</td>\n",
       "      <td>1.013500</td>\n",
       "      <td>0.625821</td>\n",
       "      <td>1.017213</td>\n",
       "      <td>1.854646</td>\n",
       "      <td>0.525958</td>\n",
       "      <td>-1.705472</td>\n",
       "      <td>-0.112683</td>\n",
       "      <td>0</td>\n",
       "      <td>0</td>\n",
       "    </tr>\n",
       "    <tr>\n",
       "      <th>3</th>\n",
       "      <td>-1.715887</td>\n",
       "      <td>-0.186157</td>\n",
       "      <td>-0.599015</td>\n",
       "      <td>-0.792537</td>\n",
       "      <td>-0.613702</td>\n",
       "      <td>-0.789520</td>\n",
       "      <td>1.070551</td>\n",
       "      <td>-0.495721</td>\n",
       "      <td>1.350532</td>\n",
       "      <td>-0.013299</td>\n",
       "      <td>0</td>\n",
       "      <td>0</td>\n",
       "    </tr>\n",
       "    <tr>\n",
       "      <th>4</th>\n",
       "      <td>-1.711268</td>\n",
       "      <td>1.855557</td>\n",
       "      <td>-0.599015</td>\n",
       "      <td>1.880397</td>\n",
       "      <td>0.212647</td>\n",
       "      <td>1.887122</td>\n",
       "      <td>1.070551</td>\n",
       "      <td>0.760369</td>\n",
       "      <td>0.049461</td>\n",
       "      <td>-0.094350</td>\n",
       "      <td>0</td>\n",
       "      <td>0</td>\n",
       "    </tr>\n",
       "  </tbody>\n",
       "</table>\n",
       "</div>"
      ],
      "text/plain": [
       "         id  account_length  number_vmail_messages  total_intl_minutes   \n",
       "0 -1.729743        0.696065               1.172240           -0.106243  \\\n",
       "1 -1.725124        0.444001              -0.599015           -1.442710   \n",
       "2 -1.720505       -0.967554              -0.599015            1.013500   \n",
       "3 -1.715887       -0.186157              -0.599015           -0.792537   \n",
       "4 -1.711268        1.855557              -0.599015            1.880397   \n",
       "\n",
       "   total_intl_calls  total_intl_charge  number_customer_service_calls   \n",
       "0         -0.613702          -0.106976                      -0.497639  \\\n",
       "1          0.625821          -1.445297                      -1.281734   \n",
       "2          0.625821           1.017213                       1.854646   \n",
       "3         -0.613702          -0.789520                       1.070551   \n",
       "4          0.212647           1.887122                       1.070551   \n",
       "\n",
       "   total_net_minutes  total_net_calls  total_net_charge voice_mail_plan   \n",
       "0           1.369617        -0.041312          1.536327               1  \\\n",
       "1           0.713930         0.473065          0.865723               0   \n",
       "2           0.525958        -1.705472         -0.112683               0   \n",
       "3          -0.495721         1.350532         -0.013299               0   \n",
       "4           0.760369         0.049461         -0.094350               0   \n",
       "\n",
       "  international_plan  \n",
       "0                  0  \n",
       "1                  1  \n",
       "2                  0  \n",
       "3                  0  \n",
       "4                  0  "
      ]
     },
     "execution_count": 26,
     "metadata": {},
     "output_type": "execute_result"
    }
   ],
   "source": [
    "num_cols = test_data.select_dtypes(include = [\"float\", \"int\"]).columns\n",
    "cat_cols = [\"voice_mail_plan\", \"international_plan\"]\n",
    "\n",
    "from sklearn.preprocessing import StandardScaler\n",
    "\n",
    "scaler = StandardScaler()\n",
    "\n",
    "scaled_cols = scaler.fit_transform(test_data[num_cols])\n",
    "test_scaled = pd.DataFrame(scaled_cols, columns = num_cols )\n",
    "test_scaled[cat_cols] = test_data[cat_cols]\n",
    "test_scaled.head()"
   ]
  },
  {
   "cell_type": "markdown",
   "metadata": {
    "id": "0CBnM2TjEM8c"
   },
   "source": [
    "## SPLITING THE DATA"
   ]
  },
  {
   "cell_type": "code",
   "execution_count": 27,
   "metadata": {
    "colab": {
     "base_uri": "https://localhost:8080/"
    },
    "id": "5eAqwhuxhpyI",
    "outputId": "2735ce87-059d-419a-c3c4-7cb7ae0fb73b"
   },
   "outputs": [
    {
     "data": {
      "text/plain": [
       "((2975, 11), (1275, 11), (2975,), (1275,))"
      ]
     },
     "execution_count": 27,
     "metadata": {},
     "output_type": "execute_result"
    }
   ],
   "source": [
    "\n",
    "x= train_scaled\n",
    "x[cat_cols] = x[cat_cols].astype(int)\n",
    "y = pd.Series(train_data['churn'])\n",
    "x_train, x_test, y_train, y_test = train_test_split(x, y, test_size=0.3,stratify = y, random_state=42)\n",
    "x_train.shape, x_test.shape, y_train.shape, y_test.shape"
   ]
  },
  {
   "cell_type": "markdown",
   "metadata": {},
   "source": [
    "## BUILDING MACHINE LEARNING MODELS"
   ]
  },
  {
   "cell_type": "markdown",
   "metadata": {
    "id": "BUydWSG87u7T"
   },
   "source": [
    "## LOGISTIC REGRESSION"
   ]
  },
  {
   "cell_type": "code",
   "execution_count": 28,
   "metadata": {
    "id": "iVpFz2Dw7YK0"
   },
   "outputs": [],
   "source": [
    "\n",
    "lo_model = LogisticRegression()\n",
    "lo_model.fit(x_train, y_train)\n",
    "y_predict = lo_model.predict(x_test)"
   ]
  },
  {
   "cell_type": "code",
   "execution_count": 29,
   "metadata": {
    "colab": {
     "base_uri": "https://localhost:8080/"
    },
    "id": "PyjEjKni-nN9",
    "outputId": "88df756a-be68-4efa-97af-074ea82084b0"
   },
   "outputs": [
    {
     "data": {
      "text/plain": [
       "0.8564705882352941"
      ]
     },
     "execution_count": 29,
     "metadata": {},
     "output_type": "execute_result"
    }
   ],
   "source": [
    "lo_accuracy = accuracy_score(y_predict, y_test)\n",
    "lo_accuracy"
   ]
  },
  {
   "cell_type": "code",
   "execution_count": 30,
   "metadata": {
    "colab": {
     "base_uri": "https://localhost:8080/"
    },
    "id": "A0dQWd-us6_R",
    "outputId": "78a64905-78ae-46ea-cf34-ec950f9af3ab"
   },
   "outputs": [
    {
     "name": "stdout",
     "output_type": "stream",
     "text": [
      "              precision    recall  f1-score   support\n",
      "\n",
      "           0       0.87      0.97      0.92      1096\n",
      "           1       0.46      0.14      0.21       179\n",
      "\n",
      "    accuracy                           0.86      1275\n",
      "   macro avg       0.67      0.56      0.57      1275\n",
      "weighted avg       0.82      0.86      0.82      1275\n",
      "\n"
     ]
    }
   ],
   "source": [
    "print(classification_report(y_test, y_predict))"
   ]
  },
  {
   "cell_type": "markdown",
   "metadata": {},
   "source": [
    "## Naive bayes"
   ]
  },
  {
   "cell_type": "code",
   "execution_count": 31,
   "metadata": {},
   "outputs": [],
   "source": [
    "nb_model = GaussianNB()\n",
    "nb_model.fit(x_train, y_train)\n",
    "y_predict = nb_model.predict(x_test)"
   ]
  },
  {
   "cell_type": "code",
   "execution_count": 32,
   "metadata": {},
   "outputs": [
    {
     "data": {
      "text/plain": [
       "0.8627450980392157"
      ]
     },
     "execution_count": 32,
     "metadata": {},
     "output_type": "execute_result"
    }
   ],
   "source": [
    "nb_acc = accuracy_score(y_predict, y_test)\n",
    "nb_acc"
   ]
  },
  {
   "cell_type": "code",
   "execution_count": 33,
   "metadata": {},
   "outputs": [
    {
     "name": "stdout",
     "output_type": "stream",
     "text": [
      "              precision    recall  f1-score   support\n",
      "\n",
      "           0       0.92      0.92      0.92      1096\n",
      "           1       0.51      0.50      0.50       179\n",
      "\n",
      "    accuracy                           0.86      1275\n",
      "   macro avg       0.71      0.71      0.71      1275\n",
      "weighted avg       0.86      0.86      0.86      1275\n",
      "\n"
     ]
    }
   ],
   "source": [
    "print(classification_report(y_test, y_predict))"
   ]
  },
  {
   "cell_type": "markdown",
   "metadata": {},
   "source": [
    "## SUPPORT VECTOR MACHINE"
   ]
  },
  {
   "cell_type": "code",
   "execution_count": 34,
   "metadata": {},
   "outputs": [],
   "source": [
    "svm = SVC()\n",
    "svm.fit(x_train, y_train)\n",
    "y_preidct = svm.predict(x_test)"
   ]
  },
  {
   "cell_type": "code",
   "execution_count": 35,
   "metadata": {},
   "outputs": [
    {
     "data": {
      "text/plain": [
       "0.8627450980392157"
      ]
     },
     "execution_count": 35,
     "metadata": {},
     "output_type": "execute_result"
    }
   ],
   "source": [
    "svm_acc = accuracy_score(y_predict, y_test)\n",
    "svm_acc"
   ]
  },
  {
   "cell_type": "code",
   "execution_count": 36,
   "metadata": {},
   "outputs": [
    {
     "name": "stdout",
     "output_type": "stream",
     "text": [
      "              precision    recall  f1-score   support\n",
      "\n",
      "           0       0.92      0.92      0.92      1096\n",
      "           1       0.51      0.50      0.50       179\n",
      "\n",
      "    accuracy                           0.86      1275\n",
      "   macro avg       0.71      0.71      0.71      1275\n",
      "weighted avg       0.86      0.86      0.86      1275\n",
      "\n"
     ]
    }
   ],
   "source": [
    "print(classification_report(y_test, y_predict))"
   ]
  },
  {
   "cell_type": "markdown",
   "metadata": {
    "id": "4EXMtIs3CLzD"
   },
   "source": [
    "## DECISION TREE CLASSIFIER"
   ]
  },
  {
   "cell_type": "code",
   "execution_count": 37,
   "metadata": {
    "id": "se-wEn4HA97f"
   },
   "outputs": [],
   "source": [
    "from sklearn.tree import DecisionTreeClassifier\n",
    "dt_model = DecisionTreeClassifier()\n",
    "dt_model.fit(x_train, y_train)\n",
    "dt_model_predict = dt_model.predict(x_test)"
   ]
  },
  {
   "cell_type": "code",
   "execution_count": 38,
   "metadata": {
    "colab": {
     "base_uri": "https://localhost:8080/"
    },
    "id": "XLWXKKf1CcQs",
    "outputId": "abc9d0c0-943d-4bd1-98d3-4951d0ae42f1"
   },
   "outputs": [
    {
     "data": {
      "text/plain": [
       "0.9027450980392157"
      ]
     },
     "execution_count": 38,
     "metadata": {},
     "output_type": "execute_result"
    }
   ],
   "source": [
    "accuracy = accuracy_score(dt_model_predict, y_test)\n",
    "accuracy"
   ]
  },
  {
   "cell_type": "code",
   "execution_count": 39,
   "metadata": {
    "colab": {
     "base_uri": "https://localhost:8080/"
    },
    "id": "Rntu9gQnB03b",
    "outputId": "21759244-eb6b-46c6-9d52-0aec398eb24d"
   },
   "outputs": [
    {
     "name": "stdout",
     "output_type": "stream",
     "text": [
      "              precision    recall  f1-score   support\n",
      "\n",
      "           0       0.95      0.94      0.94      1096\n",
      "           1       0.65      0.67      0.66       179\n",
      "\n",
      "    accuracy                           0.90      1275\n",
      "   macro avg       0.80      0.81      0.80      1275\n",
      "weighted avg       0.90      0.90      0.90      1275\n",
      "\n"
     ]
    }
   ],
   "source": [
    "print(classification_report(y_test, dt_model_predict))"
   ]
  },
  {
   "cell_type": "markdown",
   "metadata": {
    "id": "nSvpDk9LCSsE"
   },
   "source": [
    "## RANDOM FOREST CLASSIFIER"
   ]
  },
  {
   "cell_type": "code",
   "execution_count": 40,
   "metadata": {
    "id": "x37Gf1uyIWiW"
   },
   "outputs": [],
   "source": [
    "from sklearn.ensemble import RandomForestClassifier\n",
    "rf_model = RandomForestClassifier()\n",
    "rf_model.fit(x_train, y_train)\n",
    "rf_model_predict = rf_model.predict(x_test)"
   ]
  },
  {
   "cell_type": "code",
   "execution_count": 41,
   "metadata": {
    "colab": {
     "base_uri": "https://localhost:8080/"
    },
    "id": "7S4opDqiA4rh",
    "outputId": "8dda1c3c-0ed7-403f-d290-4b2e494f7435"
   },
   "outputs": [
    {
     "data": {
      "text/plain": [
       "0.9427450980392157"
      ]
     },
     "execution_count": 41,
     "metadata": {},
     "output_type": "execute_result"
    }
   ],
   "source": [
    "rf_accuracy = accuracy_score(rf_model_predict, y_test)\n",
    "rf_accuracy"
   ]
  },
  {
   "cell_type": "code",
   "execution_count": 42,
   "metadata": {
    "colab": {
     "base_uri": "https://localhost:8080/"
    },
    "id": "xB-S0XEnARKy",
    "outputId": "a9467f05-7988-4c50-fd9f-5e772020fadb"
   },
   "outputs": [
    {
     "name": "stdout",
     "output_type": "stream",
     "text": [
      "              precision    recall  f1-score   support\n",
      "\n",
      "           0       0.94      1.00      0.97      1096\n",
      "           1       0.96      0.61      0.75       179\n",
      "\n",
      "    accuracy                           0.94      1275\n",
      "   macro avg       0.95      0.81      0.86      1275\n",
      "weighted avg       0.94      0.94      0.94      1275\n",
      "\n"
     ]
    }
   ],
   "source": [
    "print(classification_report(y_test, rf_model_predict))"
   ]
  },
  {
   "cell_type": "markdown",
   "metadata": {},
   "source": [
    "## XGBOOST CLASSIFIER"
   ]
  },
  {
   "cell_type": "code",
   "execution_count": 43,
   "metadata": {
    "id": "StbS1QuGDrqY"
   },
   "outputs": [],
   "source": [
    "xg_model = XGBClassifier()\n",
    "xg_model.fit(x_train, y_train)\n",
    "xg_model_predict = xg_model.predict(x_test)"
   ]
  },
  {
   "cell_type": "code",
   "execution_count": 44,
   "metadata": {
    "colab": {
     "base_uri": "https://localhost:8080/"
    },
    "id": "qX8lBE_KFaZZ",
    "outputId": "20c9d8f1-6a5a-4217-950b-e1d48de460c5"
   },
   "outputs": [
    {
     "data": {
      "text/plain": [
       "0.9380392156862745"
      ]
     },
     "execution_count": 44,
     "metadata": {},
     "output_type": "execute_result"
    }
   ],
   "source": [
    "xg_accuracy = accuracy_score(xg_model_predict, y_test)\n",
    "xg_accuracy"
   ]
  },
  {
   "cell_type": "code",
   "execution_count": 45,
   "metadata": {},
   "outputs": [
    {
     "name": "stdout",
     "output_type": "stream",
     "text": [
      "              precision    recall  f1-score   support\n",
      "\n",
      "           0       0.94      0.99      0.96      1096\n",
      "           1       0.89      0.64      0.74       179\n",
      "\n",
      "    accuracy                           0.94      1275\n",
      "   macro avg       0.92      0.81      0.85      1275\n",
      "weighted avg       0.94      0.94      0.93      1275\n",
      "\n"
     ]
    }
   ],
   "source": [
    "print(classification_report(y_test, xg_model_predict))"
   ]
  },
  {
   "cell_type": "markdown",
   "metadata": {},
   "source": [
    "## K-NEAREST NEIGHBORS"
   ]
  },
  {
   "cell_type": "code",
   "execution_count": 46,
   "metadata": {},
   "outputs": [
    {
     "name": "stdout",
     "output_type": "stream",
     "text": [
      "Accuracy: 0.8854901960784314\n",
      "              precision    recall  f1-score   support\n",
      "\n",
      "           0       0.90      0.98      0.94      1096\n",
      "           1       0.72      0.30      0.43       179\n",
      "\n",
      "    accuracy                           0.89      1275\n",
      "   macro avg       0.81      0.64      0.68      1275\n",
      "weighted avg       0.87      0.89      0.86      1275\n",
      "\n"
     ]
    }
   ],
   "source": [
    "knn = KNeighborsClassifier(n_neighbors=5)\n",
    "\n",
    "knn.fit(x_train, y_train)\n",
    "\n",
    "y_pred = knn.predict(x_test)\n",
    "\n",
    "accuracy = accuracy_score(y_test, y_pred)\n",
    "print(\"Accuracy:\", accuracy)\n",
    "print(classification_report(y_test, y_pred))"
   ]
  },
  {
   "cell_type": "markdown",
   "metadata": {},
   "source": [
    "## ADA BOOST"
   ]
  },
  {
   "cell_type": "code",
   "execution_count": 47,
   "metadata": {},
   "outputs": [
    {
     "name": "stdout",
     "output_type": "stream",
     "text": [
      "Accuracy: 0.9090196078431373\n",
      "              precision    recall  f1-score   support\n",
      "\n",
      "           0       0.92      0.97      0.95      1096\n",
      "           1       0.76      0.51      0.61       179\n",
      "\n",
      "    accuracy                           0.91      1275\n",
      "   macro avg       0.84      0.74      0.78      1275\n",
      "weighted avg       0.90      0.91      0.90      1275\n",
      "\n"
     ]
    }
   ],
   "source": [
    "adaboost = AdaBoostClassifier(n_estimators=40, random_state=42)\n",
    "\n",
    "adaboost.fit(x_train, y_train)\n",
    "\n",
    "y_pred = adaboost.predict(x_test)\n",
    "\n",
    "accuracy = accuracy_score(y_test, y_pred)\n",
    "print(\"Accuracy:\", accuracy)\n",
    "print(classification_report(y_test, y_pred))"
   ]
  },
  {
   "cell_type": "markdown",
   "metadata": {},
   "source": [
    "## GRADIENT BOOSTING"
   ]
  },
  {
   "cell_type": "code",
   "execution_count": 48,
   "metadata": {},
   "outputs": [
    {
     "name": "stdout",
     "output_type": "stream",
     "text": [
      "Accuracy: 0.9427450980392157\n",
      "              precision    recall  f1-score   support\n",
      "\n",
      "           0       0.94      0.99      0.97      1096\n",
      "           1       0.95      0.63      0.75       179\n",
      "\n",
      "    accuracy                           0.94      1275\n",
      "   macro avg       0.95      0.81      0.86      1275\n",
      "weighted avg       0.94      0.94      0.94      1275\n",
      "\n"
     ]
    }
   ],
   "source": [
    "gradient_boosting = GradientBoostingClassifier(n_estimators=100, random_state=42)\n",
    "\n",
    "gradient_boosting.fit(x_train, y_train)\n",
    "\n",
    "y_pred = gradient_boosting.predict(x_test)\n",
    "\n",
    "accuracy = accuracy_score(y_test, y_pred)\n",
    "print(\"Accuracy:\", accuracy)\n",
    "print(classification_report(y_test, y_pred))"
   ]
  },
  {
   "cell_type": "markdown",
   "metadata": {},
   "source": [
    "## BAGGING CLASSIFIER"
   ]
  },
  {
   "cell_type": "code",
   "execution_count": 49,
   "metadata": {},
   "outputs": [
    {
     "name": "stdout",
     "output_type": "stream",
     "text": [
      "Accuracy: 0.9333333333333333\n",
      "              precision    recall  f1-score   support\n",
      "\n",
      "           0       0.94      0.98      0.96      1096\n",
      "           1       0.86      0.63      0.73       179\n",
      "\n",
      "    accuracy                           0.93      1275\n",
      "   macro avg       0.90      0.81      0.84      1275\n",
      "weighted avg       0.93      0.93      0.93      1275\n",
      "\n"
     ]
    }
   ],
   "source": [
    "\n",
    "base_classifier = DecisionTreeClassifier(random_state=42)\n",
    "\n",
    "# Initialize Bagging classifier\n",
    "bagging_classifier = BaggingClassifier(estimator=base_classifier, n_estimators=10, random_state=42)\n",
    "\n",
    "# Train the classifier\n",
    "bagging_classifier.fit(x_train, y_train)\n",
    "\n",
    "# Predict on the testing data\n",
    "y_pred = bagging_classifier.predict(x_test)\n",
    "\n",
    "# Evaluate the model\n",
    "accuracy = accuracy_score(y_test, y_pred)\n",
    "print(\"Accuracy:\", accuracy)\n",
    "print(classification_report(y_test, y_pred))"
   ]
  },
  {
   "cell_type": "markdown",
   "metadata": {
    "id": "dZBo2rwnL_1h"
   },
   "source": [
    "## PREDICTION CHURN FOR THE TEST DATA\n",
    "\n",
    "\n",
    "\n"
   ]
  },
  {
   "cell_type": "code",
   "execution_count": 50,
   "metadata": {
    "colab": {
     "base_uri": "https://localhost:8080/",
     "height": 226
    },
    "id": "sWCgwbLpFs4l",
    "outputId": "9a2a2089-e390-468f-a7a0-9054b9cc9d1f"
   },
   "outputs": [
    {
     "data": {
      "text/html": [
       "<div>\n",
       "<style scoped>\n",
       "    .dataframe tbody tr th:only-of-type {\n",
       "        vertical-align: middle;\n",
       "    }\n",
       "\n",
       "    .dataframe tbody tr th {\n",
       "        vertical-align: top;\n",
       "    }\n",
       "\n",
       "    .dataframe thead th {\n",
       "        text-align: right;\n",
       "    }\n",
       "</style>\n",
       "<table border=\"1\" class=\"dataframe\">\n",
       "  <thead>\n",
       "    <tr style=\"text-align: right;\">\n",
       "      <th></th>\n",
       "      <th>id</th>\n",
       "      <th>account_length</th>\n",
       "      <th>international_plan</th>\n",
       "      <th>voice_mail_plan</th>\n",
       "      <th>number_vmail_messages</th>\n",
       "      <th>total_intl_minutes</th>\n",
       "      <th>total_intl_calls</th>\n",
       "      <th>total_intl_charge</th>\n",
       "      <th>number_customer_service_calls</th>\n",
       "      <th>total_net_minutes</th>\n",
       "      <th>total_net_calls</th>\n",
       "      <th>total_net_charge</th>\n",
       "    </tr>\n",
       "  </thead>\n",
       "  <tbody>\n",
       "    <tr>\n",
       "      <th>0</th>\n",
       "      <td>1</td>\n",
       "      <td>128</td>\n",
       "      <td>0</td>\n",
       "      <td>1</td>\n",
       "      <td>25</td>\n",
       "      <td>10.0</td>\n",
       "      <td>3</td>\n",
       "      <td>2.70</td>\n",
       "      <td>1</td>\n",
       "      <td>707.2</td>\n",
       "      <td>300</td>\n",
       "      <td>72.86</td>\n",
       "    </tr>\n",
       "    <tr>\n",
       "      <th>1</th>\n",
       "      <td>2</td>\n",
       "      <td>118</td>\n",
       "      <td>1</td>\n",
       "      <td>0</td>\n",
       "      <td>0</td>\n",
       "      <td>6.3</td>\n",
       "      <td>6</td>\n",
       "      <td>1.70</td>\n",
       "      <td>0</td>\n",
       "      <td>647.9</td>\n",
       "      <td>317</td>\n",
       "      <td>65.91</td>\n",
       "    </tr>\n",
       "    <tr>\n",
       "      <th>2</th>\n",
       "      <td>3</td>\n",
       "      <td>62</td>\n",
       "      <td>0</td>\n",
       "      <td>0</td>\n",
       "      <td>0</td>\n",
       "      <td>13.1</td>\n",
       "      <td>6</td>\n",
       "      <td>3.54</td>\n",
       "      <td>4</td>\n",
       "      <td>630.9</td>\n",
       "      <td>245</td>\n",
       "      <td>55.77</td>\n",
       "    </tr>\n",
       "    <tr>\n",
       "      <th>3</th>\n",
       "      <td>4</td>\n",
       "      <td>93</td>\n",
       "      <td>0</td>\n",
       "      <td>0</td>\n",
       "      <td>0</td>\n",
       "      <td>8.1</td>\n",
       "      <td>3</td>\n",
       "      <td>2.19</td>\n",
       "      <td>3</td>\n",
       "      <td>538.5</td>\n",
       "      <td>346</td>\n",
       "      <td>56.80</td>\n",
       "    </tr>\n",
       "    <tr>\n",
       "      <th>4</th>\n",
       "      <td>5</td>\n",
       "      <td>174</td>\n",
       "      <td>0</td>\n",
       "      <td>0</td>\n",
       "      <td>0</td>\n",
       "      <td>15.5</td>\n",
       "      <td>5</td>\n",
       "      <td>4.19</td>\n",
       "      <td>3</td>\n",
       "      <td>652.1</td>\n",
       "      <td>303</td>\n",
       "      <td>55.96</td>\n",
       "    </tr>\n",
       "  </tbody>\n",
       "</table>\n",
       "</div>"
      ],
      "text/plain": [
       "   id  account_length international_plan voice_mail_plan   \n",
       "0   1             128                  0               1  \\\n",
       "1   2             118                  1               0   \n",
       "2   3              62                  0               0   \n",
       "3   4              93                  0               0   \n",
       "4   5             174                  0               0   \n",
       "\n",
       "   number_vmail_messages  total_intl_minutes  total_intl_calls   \n",
       "0                     25                10.0                 3  \\\n",
       "1                      0                 6.3                 6   \n",
       "2                      0                13.1                 6   \n",
       "3                      0                 8.1                 3   \n",
       "4                      0                15.5                 5   \n",
       "\n",
       "   total_intl_charge  number_customer_service_calls  total_net_minutes   \n",
       "0               2.70                              1              707.2  \\\n",
       "1               1.70                              0              647.9   \n",
       "2               3.54                              4              630.9   \n",
       "3               2.19                              3              538.5   \n",
       "4               4.19                              3              652.1   \n",
       "\n",
       "   total_net_calls  total_net_charge  \n",
       "0              300             72.86  \n",
       "1              317             65.91  \n",
       "2              245             55.77  \n",
       "3              346             56.80  \n",
       "4              303             55.96  "
      ]
     },
     "execution_count": 50,
     "metadata": {},
     "output_type": "execute_result"
    }
   ],
   "source": [
    "test_data.head()"
   ]
  },
  {
   "cell_type": "code",
   "execution_count": 51,
   "metadata": {
    "colab": {
     "base_uri": "https://localhost:8080/",
     "height": 226
    },
    "id": "Nj2wgUEnMWGR",
    "outputId": "b8666b58-c123-4b84-821f-e2f4e1b737e5"
   },
   "outputs": [
    {
     "data": {
      "text/html": [
       "<div>\n",
       "<style scoped>\n",
       "    .dataframe tbody tr th:only-of-type {\n",
       "        vertical-align: middle;\n",
       "    }\n",
       "\n",
       "    .dataframe tbody tr th {\n",
       "        vertical-align: top;\n",
       "    }\n",
       "\n",
       "    .dataframe thead th {\n",
       "        text-align: right;\n",
       "    }\n",
       "</style>\n",
       "<table border=\"1\" class=\"dataframe\">\n",
       "  <thead>\n",
       "    <tr style=\"text-align: right;\">\n",
       "      <th></th>\n",
       "      <th>account_length</th>\n",
       "      <th>number_vmail_messages</th>\n",
       "      <th>total_intl_minutes</th>\n",
       "      <th>total_intl_calls</th>\n",
       "      <th>total_intl_charge</th>\n",
       "      <th>number_customer_service_calls</th>\n",
       "      <th>total_net_minutes</th>\n",
       "      <th>total_net_calls</th>\n",
       "      <th>total_net_charge</th>\n",
       "      <th>voice_mail_plan</th>\n",
       "      <th>international_plan</th>\n",
       "    </tr>\n",
       "  </thead>\n",
       "  <tbody>\n",
       "    <tr>\n",
       "      <th>0</th>\n",
       "      <td>0.696065</td>\n",
       "      <td>1.172240</td>\n",
       "      <td>-0.106243</td>\n",
       "      <td>-0.613702</td>\n",
       "      <td>-0.106976</td>\n",
       "      <td>-0.497639</td>\n",
       "      <td>1.369617</td>\n",
       "      <td>-0.041312</td>\n",
       "      <td>1.536327</td>\n",
       "      <td>1</td>\n",
       "      <td>0</td>\n",
       "    </tr>\n",
       "    <tr>\n",
       "      <th>1</th>\n",
       "      <td>0.444001</td>\n",
       "      <td>-0.599015</td>\n",
       "      <td>-1.442710</td>\n",
       "      <td>0.625821</td>\n",
       "      <td>-1.445297</td>\n",
       "      <td>-1.281734</td>\n",
       "      <td>0.713930</td>\n",
       "      <td>0.473065</td>\n",
       "      <td>0.865723</td>\n",
       "      <td>0</td>\n",
       "      <td>1</td>\n",
       "    </tr>\n",
       "    <tr>\n",
       "      <th>2</th>\n",
       "      <td>-0.967554</td>\n",
       "      <td>-0.599015</td>\n",
       "      <td>1.013500</td>\n",
       "      <td>0.625821</td>\n",
       "      <td>1.017213</td>\n",
       "      <td>1.854646</td>\n",
       "      <td>0.525958</td>\n",
       "      <td>-1.705472</td>\n",
       "      <td>-0.112683</td>\n",
       "      <td>0</td>\n",
       "      <td>0</td>\n",
       "    </tr>\n",
       "    <tr>\n",
       "      <th>3</th>\n",
       "      <td>-0.186157</td>\n",
       "      <td>-0.599015</td>\n",
       "      <td>-0.792537</td>\n",
       "      <td>-0.613702</td>\n",
       "      <td>-0.789520</td>\n",
       "      <td>1.070551</td>\n",
       "      <td>-0.495721</td>\n",
       "      <td>1.350532</td>\n",
       "      <td>-0.013299</td>\n",
       "      <td>0</td>\n",
       "      <td>0</td>\n",
       "    </tr>\n",
       "    <tr>\n",
       "      <th>4</th>\n",
       "      <td>1.855557</td>\n",
       "      <td>-0.599015</td>\n",
       "      <td>1.880397</td>\n",
       "      <td>0.212647</td>\n",
       "      <td>1.887122</td>\n",
       "      <td>1.070551</td>\n",
       "      <td>0.760369</td>\n",
       "      <td>0.049461</td>\n",
       "      <td>-0.094350</td>\n",
       "      <td>0</td>\n",
       "      <td>0</td>\n",
       "    </tr>\n",
       "  </tbody>\n",
       "</table>\n",
       "</div>"
      ],
      "text/plain": [
       "   account_length  number_vmail_messages  total_intl_minutes   \n",
       "0        0.696065               1.172240           -0.106243  \\\n",
       "1        0.444001              -0.599015           -1.442710   \n",
       "2       -0.967554              -0.599015            1.013500   \n",
       "3       -0.186157              -0.599015           -0.792537   \n",
       "4        1.855557              -0.599015            1.880397   \n",
       "\n",
       "   total_intl_calls  total_intl_charge  number_customer_service_calls   \n",
       "0         -0.613702          -0.106976                      -0.497639  \\\n",
       "1          0.625821          -1.445297                      -1.281734   \n",
       "2          0.625821           1.017213                       1.854646   \n",
       "3         -0.613702          -0.789520                       1.070551   \n",
       "4          0.212647           1.887122                       1.070551   \n",
       "\n",
       "   total_net_minutes  total_net_calls  total_net_charge voice_mail_plan   \n",
       "0           1.369617        -0.041312          1.536327               1  \\\n",
       "1           0.713930         0.473065          0.865723               0   \n",
       "2           0.525958        -1.705472         -0.112683               0   \n",
       "3          -0.495721         1.350532         -0.013299               0   \n",
       "4           0.760369         0.049461         -0.094350               0   \n",
       "\n",
       "  international_plan  \n",
       "0                  0  \n",
       "1                  1  \n",
       "2                  0  \n",
       "3                  0  \n",
       "4                  0  "
      ]
     },
     "execution_count": 51,
     "metadata": {},
     "output_type": "execute_result"
    }
   ],
   "source": [
    "final_test = test_scaled[:5].drop(columns = 'id')\n",
    "final_test"
   ]
  },
  {
   "cell_type": "markdown",
   "metadata": {},
   "source": [
    "## PREDICTING CHURN FOR TEST DATA WITH GRADIENT BOOSTING CLASSIFIER"
   ]
  },
  {
   "cell_type": "code",
   "execution_count": 52,
   "metadata": {
    "colab": {
     "base_uri": "https://localhost:8080/"
    },
    "id": "2b8m61jlQenU",
    "outputId": "148b9b2e-04f9-4e7a-e2c3-58b5e8ed4740"
   },
   "outputs": [
    {
     "data": {
      "text/plain": [
       "array([0, 0, 0, 0, 0], dtype=int64)"
      ]
     },
     "execution_count": 52,
     "metadata": {},
     "output_type": "execute_result"
    }
   ],
   "source": [
    "gbt_pred = gradient_boosting.predict(final_test)\n",
    "gbt_pred"
   ]
  },
  {
   "cell_type": "code",
   "execution_count": 53,
   "metadata": {
    "colab": {
     "base_uri": "https://localhost:8080/",
     "height": 206
    },
    "id": "cFVDJFRmSn3D",
    "outputId": "3e505f5e-c849-4972-8e77-8843c0bf64db"
   },
   "outputs": [
    {
     "data": {
      "text/html": [
       "<div>\n",
       "<style scoped>\n",
       "    .dataframe tbody tr th:only-of-type {\n",
       "        vertical-align: middle;\n",
       "    }\n",
       "\n",
       "    .dataframe tbody tr th {\n",
       "        vertical-align: top;\n",
       "    }\n",
       "\n",
       "    .dataframe thead th {\n",
       "        text-align: right;\n",
       "    }\n",
       "</style>\n",
       "<table border=\"1\" class=\"dataframe\">\n",
       "  <thead>\n",
       "    <tr style=\"text-align: right;\">\n",
       "      <th></th>\n",
       "      <th>id</th>\n",
       "      <th>churn</th>\n",
       "    </tr>\n",
       "  </thead>\n",
       "  <tbody>\n",
       "    <tr>\n",
       "      <th>0</th>\n",
       "      <td>1</td>\n",
       "      <td>no</td>\n",
       "    </tr>\n",
       "    <tr>\n",
       "      <th>1</th>\n",
       "      <td>2</td>\n",
       "      <td>no</td>\n",
       "    </tr>\n",
       "    <tr>\n",
       "      <th>2</th>\n",
       "      <td>3</td>\n",
       "      <td>no</td>\n",
       "    </tr>\n",
       "    <tr>\n",
       "      <th>3</th>\n",
       "      <td>4</td>\n",
       "      <td>no</td>\n",
       "    </tr>\n",
       "    <tr>\n",
       "      <th>4</th>\n",
       "      <td>5</td>\n",
       "      <td>no</td>\n",
       "    </tr>\n",
       "  </tbody>\n",
       "</table>\n",
       "</div>"
      ],
      "text/plain": [
       "   id churn\n",
       "0   1    no\n",
       "1   2    no\n",
       "2   3    no\n",
       "3   4    no\n",
       "4   5    no"
      ]
     },
     "execution_count": 53,
     "metadata": {},
     "output_type": "execute_result"
    }
   ],
   "source": [
    "sample_data = pd.read_csv('sampleSubmission.csv')\n",
    "data = sample_data[:5].copy()\n",
    "data.reset_index(drop=True, inplace = True)\n",
    "data.churn = gbt_pred\n",
    "data.churn = data.churn.map({1:'yes',0:'no'})\n",
    "data"
   ]
  },
  {
   "cell_type": "markdown",
   "metadata": {},
   "source": [
    "## PREDICTING CHURN FOR TEST DATA WITH RANDOM FOREST CLASSIFIER"
   ]
  },
  {
   "cell_type": "code",
   "execution_count": 54,
   "metadata": {
    "colab": {
     "base_uri": "https://localhost:8080/"
    },
    "id": "kGf4lsluSxxN",
    "outputId": "50a25b25-4c02-4b5f-c471-4b2211435e78"
   },
   "outputs": [
    {
     "data": {
      "text/plain": [
       "array([0, 0, 0, 0, 0], dtype=int64)"
      ]
     },
     "execution_count": 54,
     "metadata": {},
     "output_type": "execute_result"
    }
   ],
   "source": [
    "rf_pred = rf_model.predict(final_test)\n",
    "rf_pred"
   ]
  },
  {
   "cell_type": "code",
   "execution_count": 55,
   "metadata": {
    "colab": {
     "base_uri": "https://localhost:8080/",
     "height": 206
    },
    "id": "nWAvtBuqVVGE",
    "outputId": "7d004bcc-3e2e-4545-a902-0d0c8542ab04"
   },
   "outputs": [
    {
     "data": {
      "text/html": [
       "<div>\n",
       "<style scoped>\n",
       "    .dataframe tbody tr th:only-of-type {\n",
       "        vertical-align: middle;\n",
       "    }\n",
       "\n",
       "    .dataframe tbody tr th {\n",
       "        vertical-align: top;\n",
       "    }\n",
       "\n",
       "    .dataframe thead th {\n",
       "        text-align: right;\n",
       "    }\n",
       "</style>\n",
       "<table border=\"1\" class=\"dataframe\">\n",
       "  <thead>\n",
       "    <tr style=\"text-align: right;\">\n",
       "      <th></th>\n",
       "      <th>id</th>\n",
       "      <th>churn</th>\n",
       "    </tr>\n",
       "  </thead>\n",
       "  <tbody>\n",
       "    <tr>\n",
       "      <th>0</th>\n",
       "      <td>1</td>\n",
       "      <td>no</td>\n",
       "    </tr>\n",
       "    <tr>\n",
       "      <th>1</th>\n",
       "      <td>2</td>\n",
       "      <td>no</td>\n",
       "    </tr>\n",
       "    <tr>\n",
       "      <th>2</th>\n",
       "      <td>3</td>\n",
       "      <td>no</td>\n",
       "    </tr>\n",
       "    <tr>\n",
       "      <th>3</th>\n",
       "      <td>4</td>\n",
       "      <td>no</td>\n",
       "    </tr>\n",
       "    <tr>\n",
       "      <th>4</th>\n",
       "      <td>5</td>\n",
       "      <td>no</td>\n",
       "    </tr>\n",
       "  </tbody>\n",
       "</table>\n",
       "</div>"
      ],
      "text/plain": [
       "   id churn\n",
       "0   1    no\n",
       "1   2    no\n",
       "2   3    no\n",
       "3   4    no\n",
       "4   5    no"
      ]
     },
     "execution_count": 55,
     "metadata": {},
     "output_type": "execute_result"
    }
   ],
   "source": [
    "data = sample_data[:5].copy()\n",
    "data.reset_index(drop=True, inplace = True)\n",
    "data.churn = rf_pred\n",
    "data.churn = data.churn.map({1:'yes',0:'no'})\n",
    "data"
   ]
  }
 ],
 "metadata": {
  "colab": {
   "provenance": []
  },
  "kernelspec": {
   "display_name": "Python 3 (ipykernel)",
   "language": "python",
   "name": "python3"
  },
  "language_info": {
   "codemirror_mode": {
    "name": "ipython",
    "version": 3
   },
   "file_extension": ".py",
   "mimetype": "text/x-python",
   "name": "python",
   "nbconvert_exporter": "python",
   "pygments_lexer": "ipython3",
   "version": "3.9.13"
  }
 },
 "nbformat": 4,
 "nbformat_minor": 4
}
